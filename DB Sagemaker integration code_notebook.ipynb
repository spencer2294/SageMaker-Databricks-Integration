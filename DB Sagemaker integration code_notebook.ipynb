{
 "cells": [
  {
   "cell_type": "markdown",
   "metadata": {
    "application/vnd.databricks.v1+cell": {
     "cellMetadata": {
      "byteLimit": 2048000,
      "rowLimit": 10000
     },
     "inputWidgets": {},
     "nuid": "5bb6a176-f186-4ecf-8d3d-5bebd2a38377",
     "showTitle": false,
     "title": ""
    }
   },
   "source": [
    "# Imports "
   ]
  },
  {
   "cell_type": "code",
   "execution_count": null,
   "metadata": {
    "application/vnd.databricks.v1+cell": {
     "cellMetadata": {
      "byteLimit": 2048000,
      "rowLimit": 10000
     },
     "inputWidgets": {},
     "nuid": "e7177711-8949-478b-b703-e4511e3f11f6",
     "showTitle": false,
     "title": ""
    }
   },
   "outputs": [
    {
     "name": "stdout",
     "output_type": "stream",
     "text": [
      "\u001b[43mNote: you may need to restart the kernel using dbutils.library.restartPython() to use updated packages.\u001b[0m\n",
      "Requirement already satisfied: pip in /local_disk0/.ephemeral_nfs/envs/pythonEnv-6b0f5ff0-80a8-4d40-abdc-6eed18e266fc/lib/python3.10/site-packages (22.3.1)\n",
      "Collecting pip\n",
      "  Using cached pip-23.3.1-py3-none-any.whl (2.1 MB)\n",
      "Installing collected packages: pip\n",
      "  Attempting uninstall: pip\n",
      "    Found existing installation: pip 22.3.1\n",
      "    Uninstalling pip-22.3.1:\n",
      "      Successfully uninstalled pip-22.3.1\n",
      "Successfully installed pip-23.3.1\n",
      "\u001b[43mNote: you may need to restart the kernel using dbutils.library.restartPython() to use updated packages.\u001b[0m\n",
      "\u001b[43mNote: you may need to restart the kernel using dbutils.library.restartPython() to use updated packages.\u001b[0m\n",
      "Requirement already satisfied: boto3 in /databricks/python3/lib/python3.10/site-packages (1.24.28)\n",
      "Collecting boto3\n",
      "  Using cached boto3-1.28.83-py3-none-any.whl.metadata (6.7 kB)\n",
      "Collecting botocore<1.32.0,>=1.31.83 (from boto3)\n",
      "  Using cached botocore-1.31.83-py3-none-any.whl.metadata (6.1 kB)\n",
      "Requirement already satisfied: jmespath<2.0.0,>=0.7.1 in /databricks/python3/lib/python3.10/site-packages (from boto3) (0.10.0)\n",
      "Collecting s3transfer<0.8.0,>=0.7.0 (from boto3)\n",
      "  Using cached s3transfer-0.7.0-py3-none-any.whl.metadata (1.8 kB)\n",
      "Requirement already satisfied: python-dateutil<3.0.0,>=2.1 in /databricks/python3/lib/python3.10/site-packages (from botocore<1.32.0,>=1.31.83->boto3) (2.8.2)\n",
      "Requirement already satisfied: urllib3<2.1,>=1.25.4 in /databricks/python3/lib/python3.10/site-packages (from botocore<1.32.0,>=1.31.83->boto3) (1.26.14)\n",
      "Requirement already satisfied: six>=1.5 in /usr/lib/python3/dist-packages (from python-dateutil<3.0.0,>=2.1->botocore<1.32.0,>=1.31.83->boto3) (1.16.0)\n",
      "Using cached boto3-1.28.83-py3-none-any.whl (135 kB)\n",
      "Using cached botocore-1.31.83-py3-none-any.whl (11.3 MB)\n",
      "Using cached s3transfer-0.7.0-py3-none-any.whl (79 kB)\n",
      "Installing collected packages: botocore, s3transfer, boto3\n",
      "  Attempting uninstall: botocore\n",
      "    Found existing installation: botocore 1.27.96\n",
      "    Not uninstalling botocore at /databricks/python3/lib/python3.10/site-packages, outside environment /local_disk0/.ephemeral_nfs/envs/pythonEnv-6b0f5ff0-80a8-4d40-abdc-6eed18e266fc\n",
      "    Can't uninstall 'botocore'. No files were found to uninstall.\n",
      "  Attempting uninstall: s3transfer\n",
      "    Found existing installation: s3transfer 0.6.2\n",
      "    Not uninstalling s3transfer at /databricks/python3/lib/python3.10/site-packages, outside environment /local_disk0/.ephemeral_nfs/envs/pythonEnv-6b0f5ff0-80a8-4d40-abdc-6eed18e266fc\n",
      "    Can't uninstall 's3transfer'. No files were found to uninstall.\n",
      "  Attempting uninstall: boto3\n",
      "    Found existing installation: boto3 1.24.28\n",
      "    Not uninstalling boto3 at /databricks/python3/lib/python3.10/site-packages, outside environment /local_disk0/.ephemeral_nfs/envs/pythonEnv-6b0f5ff0-80a8-4d40-abdc-6eed18e266fc\n",
      "    Can't uninstall 'boto3'. No files were found to uninstall.\n",
      "\u001b[31mERROR: pip's dependency resolver does not currently take into account all the packages that are installed. This behaviour is the source of the following dependency conflicts.\n",
      "databricks-feature-store 0.15.1 requires pyspark<4,>=3.1.2, which is not installed.\u001b[0m\u001b[31m\n",
      "\u001b[0mSuccessfully installed boto3-1.28.83 botocore-1.31.83 s3transfer-0.7.0\n",
      "\u001b[43mNote: you may need to restart the kernel using dbutils.library.restartPython() to use updated packages.\u001b[0m\n",
      "\u001b[43mNote: you may need to restart the kernel using dbutils.library.restartPython() to use updated packages.\u001b[0m\n",
      "Collecting sagemaker\n",
      "  Using cached sagemaker-2.197.0-py2.py3-none-any.whl\n",
      "Collecting attrs<24,>=23.1.0 (from sagemaker)\n",
      "  Using cached attrs-23.1.0-py3-none-any.whl (61 kB)\n",
      "Requirement already satisfied: boto3<2.0,>=1.26.131 in /local_disk0/.ephemeral_nfs/envs/pythonEnv-6b0f5ff0-80a8-4d40-abdc-6eed18e266fc/lib/python3.10/site-packages (from sagemaker) (1.28.83)\n",
      "Collecting cloudpickle==2.2.1 (from sagemaker)\n",
      "  Using cached cloudpickle-2.2.1-py3-none-any.whl (25 kB)\n",
      "Requirement already satisfied: google-pasta in /databricks/python3/lib/python3.10/site-packages (from sagemaker) (0.2.0)\n",
      "Requirement already satisfied: numpy<2.0,>=1.9.0 in /databricks/python3/lib/python3.10/site-packages (from sagemaker) (1.23.5)\n",
      "Requirement already satisfied: protobuf<5.0,>=3.12 in /databricks/python3/lib/python3.10/site-packages (from sagemaker) (4.24.0)\n",
      "Collecting smdebug-rulesconfig==1.0.1 (from sagemaker)\n",
      "  Using cached smdebug_rulesconfig-1.0.1-py2.py3-none-any.whl (20 kB)\n",
      "Requirement already satisfied: importlib-metadata<7.0,>=1.4.0 in /databricks/python3/lib/python3.10/site-packages (from sagemaker) (4.11.3)\n",
      "Requirement already satisfied: packaging>=20.0 in /databricks/python3/lib/python3.10/site-packages (from sagemaker) (22.0)\n",
      "Requirement already satisfied: pandas in /databricks/python3/lib/python3.10/site-packages (from sagemaker) (1.5.3)\n",
      "Collecting pathos (from sagemaker)\n",
      "  Using cached pathos-0.3.1-py3-none-any.whl.metadata (11 kB)\n",
      "Collecting schema (from sagemaker)\n",
      "  Using cached schema-0.7.5-py2.py3-none-any.whl (17 kB)\n",
      "Requirement already satisfied: PyYAML~=6.0 in /databricks/python3/lib/python3.10/site-packages (from sagemaker) (6.0)\n",
      "Requirement already satisfied: jsonschema in /databricks/python3/lib/python3.10/site-packages (from sagemaker) (4.17.3)\n",
      "Requirement already satisfied: platformdirs in /databricks/python3/lib/python3.10/site-packages (from sagemaker) (2.5.2)\n",
      "Collecting tblib==1.7.0 (from sagemaker)\n",
      "  Using cached tblib-1.7.0-py2.py3-none-any.whl (12 kB)\n",
      "Requirement already satisfied: botocore<1.32.0,>=1.31.83 in /local_disk0/.ephemeral_nfs/envs/pythonEnv-6b0f5ff0-80a8-4d40-abdc-6eed18e266fc/lib/python3.10/site-packages (from boto3<2.0,>=1.26.131->sagemaker) (1.31.83)\n",
      "Requirement already satisfied: jmespath<2.0.0,>=0.7.1 in /databricks/python3/lib/python3.10/site-packages (from boto3<2.0,>=1.26.131->sagemaker) (0.10.0)\n",
      "Requirement already satisfied: s3transfer<0.8.0,>=0.7.0 in /local_disk0/.ephemeral_nfs/envs/pythonEnv-6b0f5ff0-80a8-4d40-abdc-6eed18e266fc/lib/python3.10/site-packages (from boto3<2.0,>=1.26.131->sagemaker) (0.7.0)\n",
      "Requirement already satisfied: zipp>=0.5 in /databricks/python3/lib/python3.10/site-packages (from importlib-metadata<7.0,>=1.4.0->sagemaker) (3.11.0)\n",
      "Requirement already satisfied: six in /usr/lib/python3/dist-packages (from google-pasta->sagemaker) (1.16.0)\n",
      "Requirement already satisfied: pyrsistent!=0.17.0,!=0.17.1,!=0.17.2,>=0.14.0 in /databricks/python3/lib/python3.10/site-packages (from jsonschema->sagemaker) (0.18.0)\n",
      "Requirement already satisfied: python-dateutil>=2.8.1 in /databricks/python3/lib/python3.10/site-packages (from pandas->sagemaker) (2.8.2)\n",
      "Requirement already satisfied: pytz>=2020.1 in /databricks/python3/lib/python3.10/site-packages (from pandas->sagemaker) (2022.7)\n",
      "Collecting ppft>=1.7.6.7 (from pathos->sagemaker)\n",
      "  Using cached ppft-1.7.6.7-py3-none-any.whl.metadata (12 kB)\n",
      "Collecting dill>=0.3.7 (from pathos->sagemaker)\n",
      "  Using cached dill-0.3.7-py3-none-any.whl.metadata (9.9 kB)\n",
      "Collecting pox>=0.3.3 (from pathos->sagemaker)\n",
      "  Using cached pox-0.3.3-py3-none-any.whl.metadata (8.0 kB)\n",
      "Collecting multiprocess>=0.70.15 (from pathos->sagemaker)\n",
      "  Using cached multiprocess-0.70.15-py310-none-any.whl.metadata (7.2 kB)\n",
      "Collecting contextlib2>=0.5.5 (from schema->sagemaker)\n",
      "  Using cached contextlib2-21.6.0-py2.py3-none-any.whl (13 kB)\n",
      "Requirement already satisfied: urllib3<2.1,>=1.25.4 in /databricks/python3/lib/python3.10/site-packages (from botocore<1.32.0,>=1.31.83->boto3<2.0,>=1.26.131->sagemaker) (1.26.14)\n",
      "Using cached pathos-0.3.1-py3-none-any.whl (82 kB)\n",
      "Using cached dill-0.3.7-py3-none-any.whl (115 kB)\n",
      "Using cached multiprocess-0.70.15-py310-none-any.whl (134 kB)\n",
      "Using cached pox-0.3.3-py3-none-any.whl (29 kB)\n",
      "Using cached ppft-1.7.6.7-py3-none-any.whl (56 kB)\n",
      "Installing collected packages: tblib, smdebug-rulesconfig, ppft, pox, dill, contextlib2, cloudpickle, attrs, schema, multiprocess, pathos, sagemaker\n",
      "  Attempting uninstall: dill\n",
      "    Found existing installation: dill 0.3.6\n",
      "    Not uninstalling dill at /databricks/python3/lib/python3.10/site-packages, outside environment /local_disk0/.ephemeral_nfs/envs/pythonEnv-6b0f5ff0-80a8-4d40-abdc-6eed18e266fc\n",
      "    Can't uninstall 'dill'. No files were found to uninstall.\n",
      "  Attempting uninstall: cloudpickle\n",
      "    Found existing installation: cloudpickle 2.0.0\n",
      "    Not uninstalling cloudpickle at /databricks/python3/lib/python3.10/site-packages, outside environment /local_disk0/.ephemeral_nfs/envs/pythonEnv-6b0f5ff0-80a8-4d40-abdc-6eed18e266fc\n",
      "    Can't uninstall 'cloudpickle'. No files were found to uninstall.\n",
      "  Attempting uninstall: attrs\n",
      "    Found existing installation: attrs 22.1.0\n",
      "    Not uninstalling attrs at /databricks/python3/lib/python3.10/site-packages, outside environment /local_disk0/.ephemeral_nfs/envs/pythonEnv-6b0f5ff0-80a8-4d40-abdc-6eed18e266fc\n",
      "    Can't uninstall 'attrs'. No files were found to uninstall.\n",
      "  Attempting uninstall: multiprocess\n",
      "    Found existing installation: multiprocess 0.70.14\n",
      "    Not uninstalling multiprocess at /databricks/python3/lib/python3.10/site-packages, outside environment /local_disk0/.ephemeral_nfs/envs/pythonEnv-6b0f5ff0-80a8-4d40-abdc-6eed18e266fc\n",
      "    Can't uninstall 'multiprocess'. No files were found to uninstall.\n",
      "\u001b[31mERROR: pip's dependency resolver does not currently take into account all the packages that are installed. This behaviour is the source of the following dependency conflicts.\n",
      "petastorm 0.12.1 requires pyspark>=2.1.0, which is not installed.\u001b[0m\u001b[31m\n",
      "\u001b[0mSuccessfully installed attrs-23.1.0 cloudpickle-2.2.1 contextlib2-21.6.0 dill-0.3.7 multiprocess-0.70.15 pathos-0.3.1 pox-0.3.3 ppft-1.7.6.7 sagemaker-2.197.0 schema-0.7.5 smdebug-rulesconfig-1.0.1 tblib-1.7.0\n",
      "\u001b[43mNote: you may need to restart the kernel using dbutils.library.restartPython() to use updated packages.\u001b[0m\n",
      "\u001b[43mNote: you may need to restart the kernel using dbutils.library.restartPython() to use updated packages.\u001b[0m\n",
      "Requirement already satisfied: fsspec in /databricks/python3/lib/python3.10/site-packages (2022.11.0)\n",
      "\u001b[43mNote: you may need to restart the kernel using dbutils.library.restartPython() to use updated packages.\u001b[0m\n",
      "\u001b[43mNote: you may need to restart the kernel using dbutils.library.restartPython() to use updated packages.\u001b[0m\n",
      "Collecting s3fs\n",
      "  Using cached s3fs-2023.10.0-py3-none-any.whl.metadata (1.6 kB)\n",
      "Collecting aiobotocore~=2.7.0 (from s3fs)\n",
      "  Using cached aiobotocore-2.7.0-py3-none-any.whl.metadata (20 kB)\n",
      "Collecting fsspec==2023.10.0 (from s3fs)\n",
      "  Using cached fsspec-2023.10.0-py3-none-any.whl.metadata (6.8 kB)\n",
      "Requirement already satisfied: aiohttp!=4.0.0a0,!=4.0.0a1 in /databricks/python3/lib/python3.10/site-packages (from s3fs) (3.8.5)\n",
      "Collecting botocore<1.31.65,>=1.31.16 (from aiobotocore~=2.7.0->s3fs)\n",
      "  Using cached botocore-1.31.64-py3-none-any.whl.metadata (6.1 kB)\n",
      "Requirement already satisfied: wrapt<2.0.0,>=1.10.10 in /databricks/python3/lib/python3.10/site-packages (from aiobotocore~=2.7.0->s3fs) (1.14.1)\n",
      "Collecting aioitertools<1.0.0,>=0.5.1 (from aiobotocore~=2.7.0->s3fs)\n",
      "  Using cached aioitertools-0.11.0-py3-none-any.whl (23 kB)\n",
      "Requirement already satisfied: attrs>=17.3.0 in /local_disk0/.ephemeral_nfs/envs/pythonEnv-6b0f5ff0-80a8-4d40-abdc-6eed18e266fc/lib/python3.10/site-packages (from aiohttp!=4.0.0a0,!=4.0.0a1->s3fs) (23.1.0)\n",
      "Requirement already satisfied: charset-normalizer<4.0,>=2.0 in /databricks/python3/lib/python3.10/site-packages (from aiohttp!=4.0.0a0,!=4.0.0a1->s3fs) (2.0.4)\n",
      "Requirement already satisfied: multidict<7.0,>=4.5 in /databricks/python3/lib/python3.10/site-packages (from aiohttp!=4.0.0a0,!=4.0.0a1->s3fs) (6.0.4)\n",
      "Requirement already satisfied: async-timeout<5.0,>=4.0.0a3 in /databricks/python3/lib/python3.10/site-packages (from aiohttp!=4.0.0a0,!=4.0.0a1->s3fs) (4.0.3)\n",
      "Requirement already satisfied: yarl<2.0,>=1.0 in /databricks/python3/lib/python3.10/site-packages (from aiohttp!=4.0.0a0,!=4.0.0a1->s3fs) (1.9.2)\n",
      "Requirement already satisfied: frozenlist>=1.1.1 in /databricks/python3/lib/python3.10/site-packages (from aiohttp!=4.0.0a0,!=4.0.0a1->s3fs) (1.4.0)\n",
      "Requirement already satisfied: aiosignal>=1.1.2 in /databricks/python3/lib/python3.10/site-packages (from aiohttp!=4.0.0a0,!=4.0.0a1->s3fs) (1.3.1)\n",
      "Requirement already satisfied: jmespath<2.0.0,>=0.7.1 in /databricks/python3/lib/python3.10/site-packages (from botocore<1.31.65,>=1.31.16->aiobotocore~=2.7.0->s3fs) (0.10.0)\n",
      "Requirement already satisfied: python-dateutil<3.0.0,>=2.1 in /databricks/python3/lib/python3.10/site-packages (from botocore<1.31.65,>=1.31.16->aiobotocore~=2.7.0->s3fs) (2.8.2)\n",
      "Requirement already satisfied: urllib3<2.1,>=1.25.4 in /databricks/python3/lib/python3.10/site-packages (from botocore<1.31.65,>=1.31.16->aiobotocore~=2.7.0->s3fs) (1.26.14)\n",
      "Requirement already satisfied: idna>=2.0 in /databricks/python3/lib/python3.10/site-packages (from yarl<2.0,>=1.0->aiohttp!=4.0.0a0,!=4.0.0a1->s3fs) (3.4)\n",
      "Requirement already satisfied: six>=1.5 in /usr/lib/python3/dist-packages (from python-dateutil<3.0.0,>=2.1->botocore<1.31.65,>=1.31.16->aiobotocore~=2.7.0->s3fs) (1.16.0)\n",
      "Using cached s3fs-2023.10.0-py3-none-any.whl (28 kB)\n",
      "Using cached fsspec-2023.10.0-py3-none-any.whl (166 kB)\n",
      "Using cached aiobotocore-2.7.0-py3-none-any.whl (73 kB)\n",
      "Using cached botocore-1.31.64-py3-none-any.whl (11.3 MB)\n",
      "Installing collected packages: fsspec, aioitertools, botocore, aiobotocore, s3fs\n",
      "  Attempting uninstall: fsspec\n",
      "    Found existing installation: fsspec 2022.11.0\n",
      "    Not uninstalling fsspec at /databricks/python3/lib/python3.10/site-packages, outside environment /local_disk0/.ephemeral_nfs/envs/pythonEnv-6b0f5ff0-80a8-4d40-abdc-6eed18e266fc\n",
      "    Can't uninstall 'fsspec'. No files were found to uninstall.\n",
      "  Attempting uninstall: botocore\n",
      "    Found existing installation: botocore 1.31.83\n",
      "    Uninstalling botocore-1.31.83:\n",
      "      Successfully uninstalled botocore-1.31.83\n",
      "\u001b[31mERROR: pip's dependency resolver does not currently take into account all the packages that are installed. This behaviour is the source of the following dependency conflicts.\n",
      "databricks-feature-store 0.15.1 requires pyspark<4,>=3.1.2, which is not installed.\n",
      "petastorm 0.12.1 requires pyspark>=2.1.0, which is not installed.\n",
      "boto3 1.28.83 requires botocore<1.32.0,>=1.31.83, but you have botocore 1.31.64 which is incompatible.\u001b[0m\u001b[31m\n",
      "\u001b[0mSuccessfully installed aiobotocore-2.7.0 aioitertools-0.11.0 botocore-1.31.64 fsspec-2023.10.0 s3fs-2023.10.0\n",
      "\u001b[43mNote: you may need to restart the kernel using dbutils.library.restartPython() to use updated packages.\u001b[0m\n",
      "\u001b[43mNote: you may need to restart the kernel using dbutils.library.restartPython() to use updated packages.\u001b[0m\n",
      "Requirement already satisfied: xgboost in /databricks/python3/lib/python3.10/site-packages (1.7.6)\n",
      "Requirement already satisfied: numpy in /databricks/python3/lib/python3.10/site-packages (from xgboost) (1.23.5)\n",
      "Requirement already satisfied: scipy in /databricks/python3/lib/python3.10/site-packages (from xgboost) (1.10.0)\n",
      "\u001b[43mNote: you may need to restart the kernel using dbutils.library.restartPython() to use updated packages.\u001b[0m\n"
     ]
    }
   ],
   "source": [
    "!pip install --upgrade pip\n",
    "!pip install --upgrade boto3\n",
    "!pip install sagemaker\n",
    "!pip install fsspec \n",
    "!pip install s3fs\n",
    "!pip install xgboost\n",
    "import os\n",
    "import boto3\n",
    "import pandas as pd\n",
    "import numpy as np\n",
    "import matplotlib.pyplot as plt\n",
    "import seaborn as sns\n",
    "import mpl_toolkits\n",
    "%matplotlib inline"
   ]
  },
  {
   "cell_type": "code",
   "execution_count": null,
   "metadata": {
    "application/vnd.databricks.v1+cell": {
     "cellMetadata": {
      "byteLimit": 2048000,
      "rowLimit": 10000
     },
     "inputWidgets": {},
     "nuid": "39c8d4cf-1981-436c-a843-5a67f7b5598e",
     "showTitle": false,
     "title": ""
    }
   },
   "outputs": [],
   "source": [
    "sagemaker = boto3.client('sagemaker')"
   ]
  },
  {
   "cell_type": "code",
   "execution_count": null,
   "metadata": {
    "application/vnd.databricks.v1+cell": {
     "cellMetadata": {
      "byteLimit": 2048000,
      "rowLimit": 10000
     },
     "inputWidgets": {},
     "nuid": "edef25c1-bc25-484f-b494-a35b7c8761e5",
     "showTitle": false,
     "title": ""
    }
   },
   "outputs": [
    {
     "name": "stdout",
     "output_type": "stream",
     "text": [
      "sagemaker.config INFO - Not applying SDK defaults from location: /etc/xdg/sagemaker/config.yaml\n",
      "sagemaker.config INFO - Not applying SDK defaults from location: /root/.config/sagemaker/config.yaml\n"
     ]
    }
   ],
   "source": [
    "import sagemaker"
   ]
  },
  {
   "cell_type": "code",
   "execution_count": null,
   "metadata": {
    "application/vnd.databricks.v1+cell": {
     "cellMetadata": {
      "byteLimit": 2048000,
      "rowLimit": 10000
     },
     "inputWidgets": {},
     "nuid": "b9e9b06b-cd85-47d6-99a9-f72bf61b45d8",
     "showTitle": false,
     "title": ""
    }
   },
   "outputs": [
    {
     "name": "stdout",
     "output_type": "stream",
     "text": [
      "sagemaker.config INFO - Not applying SDK defaults from location: /etc/xdg/sagemaker/config.yaml\n",
      "sagemaker.config INFO - Not applying SDK defaults from location: /root/.config/sagemaker/config.yaml\n"
     ]
    }
   ],
   "source": [
    "sagemaker_session = sagemaker.Session()"
   ]
  },
  {
   "cell_type": "markdown",
   "metadata": {
    "application/vnd.databricks.v1+cell": {
     "cellMetadata": {},
     "inputWidgets": {},
     "nuid": "d5cc42db-168e-4e52-9e65-5b70d849442a",
     "showTitle": false,
     "title": ""
    }
   },
   "source": [
    "# Setting AWS Bucket location\n"
   ]
  },
  {
   "cell_type": "code",
   "execution_count": null,
   "metadata": {
    "application/vnd.databricks.v1+cell": {
     "cellMetadata": {
      "byteLimit": 2048000,
      "rowLimit": 10000
     },
     "inputWidgets": {},
     "nuid": "b4fa848e-7299-4d09-9935-168315f19392",
     "showTitle": false,
     "title": ""
    }
   },
   "outputs": [],
   "source": [
    "data_location = 's3://<Put your bucket name>/data/'\n",
    "output_location = 's3://<Put your bucket name>/output/'"
   ]
  },
  {
   "cell_type": "code",
   "execution_count": null,
   "metadata": {
    "application/vnd.databricks.v1+cell": {
     "cellMetadata": {
      "byteLimit": 2048000,
      "rowLimit": 10000
     },
     "inputWidgets": {},
     "nuid": "a6db847c-cae3-4e12-8077-df667acdb959",
     "showTitle": false,
     "title": ""
    }
   },
   "outputs": [],
   "source": [
    "from sagemaker.amazon.amazon_estimator import get_image_uri"
   ]
  },
  {
   "cell_type": "markdown",
   "metadata": {
    "application/vnd.databricks.v1+cell": {
     "cellMetadata": {},
     "inputWidgets": {},
     "nuid": "c932cb92-5607-43bd-b1bd-c4fd94c381a5",
     "showTitle": false,
     "title": ""
    }
   },
   "source": [
    "# Specify the IAM role with SagemakerFullAccess and S3FullAccess"
   ]
  },
  {
   "cell_type": "code",
   "execution_count": null,
   "metadata": {
    "application/vnd.databricks.v1+cell": {
     "cellMetadata": {
      "byteLimit": 2048000,
      "rowLimit": 10000
     },
     "inputWidgets": {},
     "nuid": "3ca902d7-7f4e-43fd-a4f9-42303824f4c3",
     "showTitle": false,
     "title": ""
    }
   },
   "outputs": [],
   "source": [
    "role = 'arn:aws:iam::<Your Account Nummber >:role/databricks-test'"
   ]
  },
  {
   "cell_type": "code",
   "execution_count": null,
   "metadata": {
    "application/vnd.databricks.v1+cell": {
     "cellMetadata": {
      "byteLimit": 2048000,
      "rowLimit": 10000
     },
     "inputWidgets": {},
     "nuid": "89b8de21-4f9f-4b63-82f1-7dfd30e22be4",
     "showTitle": false,
     "title": ""
    }
   },
   "outputs": [],
   "source": [
    "session = boto3.Session()\n",
    "region = session.region_name"
   ]
  },
  {
   "cell_type": "markdown",
   "metadata": {
    "application/vnd.databricks.v1+cell": {
     "cellMetadata": {},
     "inputWidgets": {},
     "nuid": "14515e5b-6cd6-4b1a-8750-22b29ccd2bd0",
     "showTitle": false,
     "title": ""
    }
   },
   "source": [
    "# Data Visualization and Exploration"
   ]
  },
  {
   "cell_type": "code",
   "execution_count": null,
   "metadata": {
    "application/vnd.databricks.v1+cell": {
     "cellMetadata": {
      "byteLimit": 2048000,
      "rowLimit": 10000
     },
     "inputWidgets": {},
     "nuid": "39aa7d4d-9610-40d7-8846-886b0791bd65",
     "showTitle": false,
     "title": ""
    }
   },
   "outputs": [
    {
     "name": "stderr",
     "output_type": "stream",
     "text": [
      "/root/.ipykernel/8797/command-658105626588097-2063177480:1: DtypeWarning: Columns (9) have mixed types. Specify dtype option on import or set low_memory=False.\n",
      "  data = pd.read_csv(\"s3://wc-model-bucket/data/600K US Housing Properties(1).csv\")\n"
     ]
    }
   ],
   "source": [
    "data = pd.read_csv(\"s3://<Put your bucket name>/data/600K US Housing Properties(1).csv\")"
   ]
  },
  {
   "cell_type": "code",
   "execution_count": null,
   "metadata": {
    "application/vnd.databricks.v1+cell": {
     "cellMetadata": {
      "byteLimit": 2048000,
      "rowLimit": 10000
     },
     "inputWidgets": {},
     "nuid": "e76293fd-f201-49db-8a4d-10c2a436d131",
     "showTitle": false,
     "title": ""
    }
   },
   "outputs": [
    {
     "data": {
      "text/html": [
       "<div>\n",
       "<style scoped>\n",
       "    .dataframe tbody tr th:only-of-type {\n",
       "        vertical-align: middle;\n",
       "    }\n",
       "\n",
       "    .dataframe tbody tr th {\n",
       "        vertical-align: top;\n",
       "    }\n",
       "\n",
       "    .dataframe thead th {\n",
       "        text-align: right;\n",
       "    }\n",
       "</style>\n",
       "<table border=\"1\" class=\"dataframe\">\n",
       "  <thead>\n",
       "    <tr style=\"text-align: right;\">\n",
       "      <th></th>\n",
       "      <th>property_url</th>\n",
       "      <th>property_id</th>\n",
       "      <th>address</th>\n",
       "      <th>street_name</th>\n",
       "      <th>apartment</th>\n",
       "      <th>city</th>\n",
       "      <th>state</th>\n",
       "      <th>latitude</th>\n",
       "      <th>longitude</th>\n",
       "      <th>postcode</th>\n",
       "      <th>price</th>\n",
       "      <th>bedroom_number</th>\n",
       "      <th>bathroom_number</th>\n",
       "      <th>price_per_unit</th>\n",
       "      <th>living_space</th>\n",
       "      <th>land_space</th>\n",
       "      <th>land_space_unit</th>\n",
       "      <th>broker_id</th>\n",
       "      <th>property_type</th>\n",
       "      <th>property_status</th>\n",
       "      <th>year_build</th>\n",
       "      <th>total_num_units</th>\n",
       "      <th>listing_age</th>\n",
       "      <th>RunDate</th>\n",
       "      <th>agency_name</th>\n",
       "      <th>agent_name</th>\n",
       "      <th>agent_phone</th>\n",
       "      <th>is_owned_by_zillow</th>\n",
       "    </tr>\n",
       "  </thead>\n",
       "  <tbody>\n",
       "    <tr>\n",
       "      <th>0</th>\n",
       "      <td>https://www.zillow.com/homedetails/3-Plat-83-1...</td>\n",
       "      <td>2064212272</td>\n",
       "      <td>3 Plat #83-10, Wrangell, AK 99929</td>\n",
       "      <td>Plat #83-10</td>\n",
       "      <td>NaN</td>\n",
       "      <td>Wrangell</td>\n",
       "      <td>AK</td>\n",
       "      <td>NaN</td>\n",
       "      <td>NaN</td>\n",
       "      <td>99929</td>\n",
       "      <td>135000.0</td>\n",
       "      <td>NaN</td>\n",
       "      <td>NaN</td>\n",
       "      <td>NaN</td>\n",
       "      <td>NaN</td>\n",
       "      <td>3.8860</td>\n",
       "      <td>acres</td>\n",
       "      <td>NaN</td>\n",
       "      <td>LOT</td>\n",
       "      <td>FOR_SALE</td>\n",
       "      <td>NaN</td>\n",
       "      <td>NaN</td>\n",
       "      <td>-1</td>\n",
       "      <td>2022-04-24 07:34:15</td>\n",
       "      <td>Anchor Properties</td>\n",
       "      <td>NaN</td>\n",
       "      <td>NaN</td>\n",
       "      <td>0</td>\n",
       "    </tr>\n",
       "    <tr>\n",
       "      <th>1</th>\n",
       "      <td>https://www.zillow.com/homedetails/117-3rd-St-...</td>\n",
       "      <td>249518113</td>\n",
       "      <td>117 3rd St, Wrangell, AK 99929</td>\n",
       "      <td>3rd St</td>\n",
       "      <td>NaN</td>\n",
       "      <td>Wrangell</td>\n",
       "      <td>AK</td>\n",
       "      <td>56.474518</td>\n",
       "      <td>-132.38600</td>\n",
       "      <td>99929</td>\n",
       "      <td>589500.0</td>\n",
       "      <td>3.0</td>\n",
       "      <td>3.0</td>\n",
       "      <td>237.0</td>\n",
       "      <td>2478.0</td>\n",
       "      <td>7492.0000</td>\n",
       "      <td>sqft</td>\n",
       "      <td>NaN</td>\n",
       "      <td>SINGLE_FAMILY</td>\n",
       "      <td>FOR_SALE</td>\n",
       "      <td>NaN</td>\n",
       "      <td>NaN</td>\n",
       "      <td>-1</td>\n",
       "      <td>2022-04-24 07:34:15</td>\n",
       "      <td>NaN</td>\n",
       "      <td>NaN</td>\n",
       "      <td>NaN</td>\n",
       "      <td>0</td>\n",
       "    </tr>\n",
       "    <tr>\n",
       "      <th>2</th>\n",
       "      <td>https://www.zillow.com/homedetails/LOT-2A-Fron...</td>\n",
       "      <td>2077729913</td>\n",
       "      <td>LOT 2A Front St, Wrangell, AK 99929</td>\n",
       "      <td>LOT 2A Front St</td>\n",
       "      <td>NaN</td>\n",
       "      <td>Wrangell</td>\n",
       "      <td>AK</td>\n",
       "      <td>56.471638</td>\n",
       "      <td>-132.38686</td>\n",
       "      <td>99929</td>\n",
       "      <td>99999.0</td>\n",
       "      <td>NaN</td>\n",
       "      <td>0.0</td>\n",
       "      <td>NaN</td>\n",
       "      <td>NaN</td>\n",
       "      <td>7222.0000</td>\n",
       "      <td>sqft</td>\n",
       "      <td>NaN</td>\n",
       "      <td>LOT</td>\n",
       "      <td>FOR_SALE</td>\n",
       "      <td>NaN</td>\n",
       "      <td>NaN</td>\n",
       "      <td>-1</td>\n",
       "      <td>2022-04-24 07:34:15</td>\n",
       "      <td>NaN</td>\n",
       "      <td>NaN</td>\n",
       "      <td>NaN</td>\n",
       "      <td>0</td>\n",
       "    </tr>\n",
       "    <tr>\n",
       "      <th>3</th>\n",
       "      <td>https://www.zillow.com/homedetails/LOT-A-Plat-...</td>\n",
       "      <td>2067488502</td>\n",
       "      <td>LOT A Plat #2009-6, Wrangell, AK 99929</td>\n",
       "      <td>LOT A Plat #2009-6</td>\n",
       "      <td>NaN</td>\n",
       "      <td>Wrangell</td>\n",
       "      <td>AK</td>\n",
       "      <td>NaN</td>\n",
       "      <td>NaN</td>\n",
       "      <td>99929</td>\n",
       "      <td>495000.0</td>\n",
       "      <td>3.0</td>\n",
       "      <td>1.0</td>\n",
       "      <td>330.0</td>\n",
       "      <td>1500.0</td>\n",
       "      <td>61.9705</td>\n",
       "      <td>acres</td>\n",
       "      <td>NaN</td>\n",
       "      <td>SINGLE_FAMILY</td>\n",
       "      <td>FOR_SALE</td>\n",
       "      <td>NaN</td>\n",
       "      <td>NaN</td>\n",
       "      <td>-1</td>\n",
       "      <td>2022-04-24 07:34:15</td>\n",
       "      <td>Petersburg Properties, LLC</td>\n",
       "      <td>NaN</td>\n",
       "      <td>NaN</td>\n",
       "      <td>0</td>\n",
       "    </tr>\n",
       "    <tr>\n",
       "      <th>4</th>\n",
       "      <td>https://www.zillow.com/homedetails/335-Cassiar...</td>\n",
       "      <td>249518139</td>\n",
       "      <td>335 Cassiar St, Wrangell, AK 99929</td>\n",
       "      <td>Cassiar St</td>\n",
       "      <td>NaN</td>\n",
       "      <td>Wrangell</td>\n",
       "      <td>AK</td>\n",
       "      <td>56.475697</td>\n",
       "      <td>-132.38905</td>\n",
       "      <td>99929</td>\n",
       "      <td>405000.0</td>\n",
       "      <td>5.0</td>\n",
       "      <td>3.0</td>\n",
       "      <td>194.0</td>\n",
       "      <td>2080.0</td>\n",
       "      <td>10436.0000</td>\n",
       "      <td>sqft</td>\n",
       "      <td>NaN</td>\n",
       "      <td>SINGLE_FAMILY</td>\n",
       "      <td>FOR_SALE</td>\n",
       "      <td>NaN</td>\n",
       "      <td>NaN</td>\n",
       "      <td>-1</td>\n",
       "      <td>2022-04-24 07:34:15</td>\n",
       "      <td>NaN</td>\n",
       "      <td>NaN</td>\n",
       "      <td>NaN</td>\n",
       "      <td>0</td>\n",
       "    </tr>\n",
       "  </tbody>\n",
       "</table>\n",
       "</div>"
      ],
      "text/plain": [
       "                                        property_url  ...  is_owned_by_zillow\n",
       "0  https://www.zillow.com/homedetails/3-Plat-83-1...  ...                   0\n",
       "1  https://www.zillow.com/homedetails/117-3rd-St-...  ...                   0\n",
       "2  https://www.zillow.com/homedetails/LOT-2A-Fron...  ...                   0\n",
       "3  https://www.zillow.com/homedetails/LOT-A-Plat-...  ...                   0\n",
       "4  https://www.zillow.com/homedetails/335-Cassiar...  ...                   0\n",
       "\n",
       "[5 rows x 28 columns]"
      ]
     },
     "execution_count": 11,
     "metadata": {},
     "output_type": "execute_result"
    }
   ],
   "source": [
    "\n",
    "\t\n",
    "# calling head() method \n",
    "# storing in new variable \n",
    "data_top = data.head() \n",
    "\t\n",
    "# display \n",
    "data_top\n"
   ]
  },
  {
   "cell_type": "code",
   "execution_count": null,
   "metadata": {
    "application/vnd.databricks.v1+cell": {
     "cellMetadata": {
      "byteLimit": 2048000,
      "rowLimit": 10000
     },
     "inputWidgets": {},
     "nuid": "26576114-2de6-4b9f-8fb7-79ddfe1c3803",
     "showTitle": false,
     "title": ""
    }
   },
   "outputs": [
    {
     "name": "stdout",
     "output_type": "stream",
     "text": [
      "property_url\n",
      "property_id\n",
      "address\n",
      "street_name\n",
      "apartment\n",
      "city\n",
      "state\n",
      "latitude\n",
      "longitude\n",
      "postcode\n",
      "price\n",
      "bedroom_number\n",
      "bathroom_number\n",
      "price_per_unit\n",
      "living_space\n",
      "land_space\n",
      "land_space_unit\n",
      "broker_id\n",
      "property_type\n",
      "property_status\n",
      "year_build\n",
      "total_num_units\n",
      "listing_age\n",
      "RunDate\n",
      "agency_name\n",
      "agent_name\n",
      "agent_phone\n",
      "is_owned_by_zillow\n"
     ]
    }
   ],
   "source": [
    "for col in data.columns:\n",
    "    print(col)"
   ]
  },
  {
   "cell_type": "code",
   "execution_count": null,
   "metadata": {
    "application/vnd.databricks.v1+cell": {
     "cellMetadata": {
      "byteLimit": 2048000,
      "rowLimit": 10000
     },
     "inputWidgets": {},
     "nuid": "4cebe7f7-16d9-4249-aa26-e836fc08f194",
     "showTitle": false,
     "title": ""
    }
   },
   "outputs": [
    {
     "data": {
      "text/plain": [
       "<matplotlib.collections.PathCollection at 0x7f385dfea5f0>"
      ]
     },
     "execution_count": 13,
     "metadata": {},
     "output_type": "execute_result"
    },
    {
     "data": {
      "image/png": "[encoded data removed]",
      "text/plain": [
       "<Figure size 640x480 with 1 Axes>"
      ]
     },
     "metadata": {},
     "output_type": "display_data"
    }
   ],
   "source": [
    "plt.scatter(data.bedroom_number,data.price)"
   ]
  },
  {
   "cell_type": "code",
   "execution_count": null,
   "metadata": {
    "application/vnd.databricks.v1+cell": {
     "cellMetadata": {
      "byteLimit": 2048000,
      "rowLimit": 10000
     },
     "inputWidgets": {},
     "nuid": "6f53baab-12f9-4bd3-b900-6549ac687988",
     "showTitle": false,
     "title": ""
    }
   },
   "outputs": [
    {
     "data": {
      "image/png": "[encoded data removed]",
      "text/plain": [
       "<Figure size 640x480 with 1 Axes>"
      ]
     },
     "metadata": {},
     "output_type": "display_data"
    }
   ],
   "source": [
    "Q1 = data['bedroom_number'].quantile(0.15)\n",
    "Q3 = data['bedroom_number'].quantile(0.85)\n",
    "IQR = Q3 - Q1\n",
    "lower_limit = Q1 - 1.5*IQR\n",
    "upper_limit = Q3 + 1.5*IQR\n",
    "\n",
    "filtered_data = data[(data['bedroom_number']>lower_limit) & (data['bedroom_number']<upper_limit)]\n",
    "\n",
    "filtered_data['bedroom_number'].value_counts().plot(kind='bar')\n",
    "plt.title('number of Bedroom')\n",
    "plt.xlabel('Bedrooms')\n",
    "plt.ylabel('Count')\n",
    "sns.despine()"
   ]
  },
  {
   "cell_type": "code",
   "execution_count": null,
   "metadata": {
    "application/vnd.databricks.v1+cell": {
     "cellMetadata": {
      "byteLimit": 2048000,
      "rowLimit": 10000
     },
     "inputWidgets": {},
     "nuid": "b01f037e-a30e-487b-b195-20391e87c187",
     "showTitle": false,
     "title": ""
    }
   },
   "outputs": [
    {
     "data": {
      "text/plain": [
       "<function seaborn.utils.despine(fig=None, ax=None, top=True, right=True, left=False, bottom=False, offset=None, trim=False)>"
      ]
     },
     "execution_count": 15,
     "metadata": {},
     "output_type": "execute_result"
    },
    {
     "data": {
      "image/png": "[encoded data removed]",
      "text/plain": [
       "<Figure size 640x480 with 1 Axes>"
      ]
     },
     "metadata": {},
     "output_type": "display_data"
    }
   ],
   "source": [
    "data['bedroom_number'].value_counts().plot(kind='bar')\n",
    "plt.title('number of Bedroom')\n",
    "plt.xlabel('Bedrooms')\n",
    "plt.ylabel('Count')\n",
    "sns.despine"
   ]
  },
  {
   "cell_type": "code",
   "execution_count": null,
   "metadata": {
    "application/vnd.databricks.v1+cell": {
     "cellMetadata": {
      "byteLimit": 2048000,
      "rowLimit": 10000
     },
     "inputWidgets": {},
     "nuid": "8d41a96f-4149-4ebb-bebb-ddb9a4c6f31c",
     "showTitle": false,
     "title": ""
    }
   },
   "outputs": [
    {
     "data": {
      "text/html": [
       "<div>\n",
       "<style scoped>\n",
       "    .dataframe tbody tr th:only-of-type {\n",
       "        vertical-align: middle;\n",
       "    }\n",
       "\n",
       "    .dataframe tbody tr th {\n",
       "        vertical-align: top;\n",
       "    }\n",
       "\n",
       "    .dataframe thead th {\n",
       "        text-align: right;\n",
       "    }\n",
       "</style>\n",
       "<table border=\"1\" class=\"dataframe\">\n",
       "  <thead>\n",
       "    <tr style=\"text-align: right;\">\n",
       "      <th></th>\n",
       "      <th>property_id</th>\n",
       "      <th>latitude</th>\n",
       "      <th>longitude</th>\n",
       "      <th>price</th>\n",
       "      <th>bedroom_number</th>\n",
       "      <th>bathroom_number</th>\n",
       "      <th>price_per_unit</th>\n",
       "      <th>living_space</th>\n",
       "      <th>land_space</th>\n",
       "      <th>broker_id</th>\n",
       "      <th>year_build</th>\n",
       "      <th>total_num_units</th>\n",
       "      <th>listing_age</th>\n",
       "      <th>agent_name</th>\n",
       "      <th>agent_phone</th>\n",
       "      <th>is_owned_by_zillow</th>\n",
       "    </tr>\n",
       "  </thead>\n",
       "  <tbody>\n",
       "    <tr>\n",
       "      <th>count</th>\n",
       "      <td>6.000000e+05</td>\n",
       "      <td>529122.000000</td>\n",
       "      <td>529122.000000</td>\n",
       "      <td>6.000000e+05</td>\n",
       "      <td>443845.000000</td>\n",
       "      <td>471733.000000</td>\n",
       "      <td>4.353650e+05</td>\n",
       "      <td>4.478470e+05</td>\n",
       "      <td>5.151190e+05</td>\n",
       "      <td>0.0</td>\n",
       "      <td>0.0</td>\n",
       "      <td>0.0</td>\n",
       "      <td>600000.0</td>\n",
       "      <td>0.0</td>\n",
       "      <td>0.0</td>\n",
       "      <td>600000.000000</td>\n",
       "    </tr>\n",
       "    <tr>\n",
       "      <th>mean</th>\n",
       "      <td>8.885042e+08</td>\n",
       "      <td>36.282379</td>\n",
       "      <td>-105.813906</td>\n",
       "      <td>6.051870e+05</td>\n",
       "      <td>3.411964</td>\n",
       "      <td>2.471116</td>\n",
       "      <td>4.840448e+02</td>\n",
       "      <td>4.298387e+03</td>\n",
       "      <td>3.099427e+03</td>\n",
       "      <td>NaN</td>\n",
       "      <td>NaN</td>\n",
       "      <td>NaN</td>\n",
       "      <td>-1.0</td>\n",
       "      <td>NaN</td>\n",
       "      <td>NaN</td>\n",
       "      <td>0.000498</td>\n",
       "    </tr>\n",
       "    <tr>\n",
       "      <th>std</th>\n",
       "      <td>9.724708e+08</td>\n",
       "      <td>5.673355</td>\n",
       "      <td>13.464633</td>\n",
       "      <td>3.175555e+06</td>\n",
       "      <td>22.491600</td>\n",
       "      <td>5.684972</td>\n",
       "      <td>2.985527e+04</td>\n",
       "      <td>1.780201e+05</td>\n",
       "      <td>5.350082e+03</td>\n",
       "      <td>NaN</td>\n",
       "      <td>NaN</td>\n",
       "      <td>NaN</td>\n",
       "      <td>0.0</td>\n",
       "      <td>NaN</td>\n",
       "      <td>NaN</td>\n",
       "      <td>0.022318</td>\n",
       "    </tr>\n",
       "    <tr>\n",
       "      <th>min</th>\n",
       "      <td>2.700000e+01</td>\n",
       "      <td>18.985142</td>\n",
       "      <td>-165.408250</td>\n",
       "      <td>0.000000e+00</td>\n",
       "      <td>0.000000</td>\n",
       "      <td>0.000000</td>\n",
       "      <td>0.000000e+00</td>\n",
       "      <td>0.000000e+00</td>\n",
       "      <td>-1.306800e+04</td>\n",
       "      <td>NaN</td>\n",
       "      <td>NaN</td>\n",
       "      <td>NaN</td>\n",
       "      <td>-1.0</td>\n",
       "      <td>NaN</td>\n",
       "      <td>NaN</td>\n",
       "      <td>0.000000</td>\n",
       "    </tr>\n",
       "    <tr>\n",
       "      <th>25%</th>\n",
       "      <td>5.402143e+07</td>\n",
       "      <td>32.612112</td>\n",
       "      <td>-117.346079</td>\n",
       "      <td>1.700000e+05</td>\n",
       "      <td>3.000000</td>\n",
       "      <td>2.000000</td>\n",
       "      <td>1.550000e+02</td>\n",
       "      <td>1.360000e+03</td>\n",
       "      <td>1.010000e+00</td>\n",
       "      <td>NaN</td>\n",
       "      <td>NaN</td>\n",
       "      <td>NaN</td>\n",
       "      <td>-1.0</td>\n",
       "      <td>NaN</td>\n",
       "      <td>NaN</td>\n",
       "      <td>0.000000</td>\n",
       "    </tr>\n",
       "    <tr>\n",
       "      <th>50%</th>\n",
       "      <td>2.066090e+08</td>\n",
       "      <td>35.403568</td>\n",
       "      <td>-101.897378</td>\n",
       "      <td>3.699000e+05</td>\n",
       "      <td>3.000000</td>\n",
       "      <td>2.000000</td>\n",
       "      <td>2.200000e+02</td>\n",
       "      <td>1.863000e+03</td>\n",
       "      <td>6.000000e+01</td>\n",
       "      <td>NaN</td>\n",
       "      <td>NaN</td>\n",
       "      <td>NaN</td>\n",
       "      <td>-1.0</td>\n",
       "      <td>NaN</td>\n",
       "      <td>NaN</td>\n",
       "      <td>0.000000</td>\n",
       "    </tr>\n",
       "    <tr>\n",
       "      <th>75%</th>\n",
       "      <td>2.066867e+09</td>\n",
       "      <td>39.661674</td>\n",
       "      <td>-95.354245</td>\n",
       "      <td>6.250000e+05</td>\n",
       "      <td>4.000000</td>\n",
       "      <td>3.000000</td>\n",
       "      <td>3.310000e+02</td>\n",
       "      <td>2.574000e+03</td>\n",
       "      <td>6.534000e+03</td>\n",
       "      <td>NaN</td>\n",
       "      <td>NaN</td>\n",
       "      <td>NaN</td>\n",
       "      <td>-1.0</td>\n",
       "      <td>NaN</td>\n",
       "      <td>NaN</td>\n",
       "      <td>0.000000</td>\n",
       "    </tr>\n",
       "    <tr>\n",
       "      <th>max</th>\n",
       "      <td>2.146997e+09</td>\n",
       "      <td>71.299170</td>\n",
       "      <td>-87.525570</td>\n",
       "      <td>2.147484e+09</td>\n",
       "      <td>13210.000000</td>\n",
       "      <td>1892.000000</td>\n",
       "      <td>1.590000e+07</td>\n",
       "      <td>5.991327e+07</td>\n",
       "      <td>1.746756e+06</td>\n",
       "      <td>NaN</td>\n",
       "      <td>NaN</td>\n",
       "      <td>NaN</td>\n",
       "      <td>-1.0</td>\n",
       "      <td>NaN</td>\n",
       "      <td>NaN</td>\n",
       "      <td>1.000000</td>\n",
       "    </tr>\n",
       "  </tbody>\n",
       "</table>\n",
       "</div>"
      ],
      "text/plain": [
       "        property_id       latitude  ...  agent_phone  is_owned_by_zillow\n",
       "count  6.000000e+05  529122.000000  ...          0.0       600000.000000\n",
       "mean   8.885042e+08      36.282379  ...          NaN            0.000498\n",
       "std    9.724708e+08       5.673355  ...          NaN            0.022318\n",
       "min    2.700000e+01      18.985142  ...          NaN            0.000000\n",
       "25%    5.402143e+07      32.612112  ...          NaN            0.000000\n",
       "50%    2.066090e+08      35.403568  ...          NaN            0.000000\n",
       "75%    2.066867e+09      39.661674  ...          NaN            0.000000\n",
       "max    2.146997e+09      71.299170  ...          NaN            1.000000\n",
       "\n",
       "[8 rows x 16 columns]"
      ]
     },
     "execution_count": 16,
     "metadata": {},
     "output_type": "execute_result"
    }
   ],
   "source": [
    "data.describe()"
   ]
  },
  {
   "cell_type": "markdown",
   "metadata": {
    "application/vnd.databricks.v1+cell": {
     "cellMetadata": {},
     "inputWidgets": {},
     "nuid": "b81ec513-d733-40c5-ac5c-b4d357095ff0",
     "showTitle": false,
     "title": ""
    }
   },
   "source": [
    "# Data Cleansing"
   ]
  },
  {
   "cell_type": "code",
   "execution_count": null,
   "metadata": {
    "application/vnd.databricks.v1+cell": {
     "cellMetadata": {
      "byteLimit": 2048000,
      "rowLimit": 10000
     },
     "inputWidgets": {},
     "nuid": "92a7a1fd-3fb5-4dcb-bfc8-34c172195e5c",
     "showTitle": false,
     "title": ""
    }
   },
   "outputs": [],
   "source": [
    "cleaned_df = data[['property_id', 'agency_name','bedroom_number', 'bathroom_number', 'living_space', 'property_type', 'property_status', \n",
    "                   'city', 'postcode', 'latitude', 'longitude', 'price', 'is_owned_by_zillow', 'listing_age', 'year_build', 'total_num_units']]"
   ]
  },
  {
   "cell_type": "code",
   "execution_count": null,
   "metadata": {
    "application/vnd.databricks.v1+cell": {
     "cellMetadata": {
      "byteLimit": 2048000,
      "rowLimit": 10000
     },
     "inputWidgets": {},
     "nuid": "29e846af-f373-422a-b9f6-cca5b78ad153",
     "showTitle": false,
     "title": ""
    }
   },
   "outputs": [],
   "source": [
    "final_df = cleaned_df"
   ]
  },
  {
   "cell_type": "code",
   "execution_count": null,
   "metadata": {
    "application/vnd.databricks.v1+cell": {
     "cellMetadata": {
      "byteLimit": 2048000,
      "rowLimit": 10000
     },
     "inputWidgets": {},
     "nuid": "b5cbdda2-ffaf-4215-bcb2-2cb47979f952",
     "showTitle": false,
     "title": ""
    }
   },
   "outputs": [
    {
     "data": {
      "text/html": [
       "<div>\n",
       "<style scoped>\n",
       "    .dataframe tbody tr th:only-of-type {\n",
       "        vertical-align: middle;\n",
       "    }\n",
       "\n",
       "    .dataframe tbody tr th {\n",
       "        vertical-align: top;\n",
       "    }\n",
       "\n",
       "    .dataframe thead th {\n",
       "        text-align: right;\n",
       "    }\n",
       "</style>\n",
       "<table border=\"1\" class=\"dataframe\">\n",
       "  <thead>\n",
       "    <tr style=\"text-align: right;\">\n",
       "      <th></th>\n",
       "      <th>property_id</th>\n",
       "      <th>agency_name</th>\n",
       "      <th>bedroom_number</th>\n",
       "      <th>bathroom_number</th>\n",
       "      <th>living_space</th>\n",
       "      <th>property_type</th>\n",
       "      <th>property_status</th>\n",
       "      <th>city</th>\n",
       "      <th>postcode</th>\n",
       "      <th>latitude</th>\n",
       "      <th>longitude</th>\n",
       "      <th>price</th>\n",
       "      <th>is_owned_by_zillow</th>\n",
       "      <th>listing_age</th>\n",
       "      <th>year_build</th>\n",
       "      <th>total_num_units</th>\n",
       "    </tr>\n",
       "  </thead>\n",
       "  <tbody>\n",
       "    <tr>\n",
       "      <th>0</th>\n",
       "      <td>2064212272</td>\n",
       "      <td>Anchor Properties</td>\n",
       "      <td>NaN</td>\n",
       "      <td>NaN</td>\n",
       "      <td>NaN</td>\n",
       "      <td>LOT</td>\n",
       "      <td>FOR_SALE</td>\n",
       "      <td>Wrangell</td>\n",
       "      <td>99929</td>\n",
       "      <td>NaN</td>\n",
       "      <td>NaN</td>\n",
       "      <td>135000.0</td>\n",
       "      <td>0</td>\n",
       "      <td>-1</td>\n",
       "      <td>NaN</td>\n",
       "      <td>NaN</td>\n",
       "    </tr>\n",
       "    <tr>\n",
       "      <th>1</th>\n",
       "      <td>249518113</td>\n",
       "      <td>NaN</td>\n",
       "      <td>3.0</td>\n",
       "      <td>3.0</td>\n",
       "      <td>2478.0</td>\n",
       "      <td>SINGLE_FAMILY</td>\n",
       "      <td>FOR_SALE</td>\n",
       "      <td>Wrangell</td>\n",
       "      <td>99929</td>\n",
       "      <td>56.474518</td>\n",
       "      <td>-132.38600</td>\n",
       "      <td>589500.0</td>\n",
       "      <td>0</td>\n",
       "      <td>-1</td>\n",
       "      <td>NaN</td>\n",
       "      <td>NaN</td>\n",
       "    </tr>\n",
       "    <tr>\n",
       "      <th>2</th>\n",
       "      <td>2077729913</td>\n",
       "      <td>NaN</td>\n",
       "      <td>NaN</td>\n",
       "      <td>0.0</td>\n",
       "      <td>NaN</td>\n",
       "      <td>LOT</td>\n",
       "      <td>FOR_SALE</td>\n",
       "      <td>Wrangell</td>\n",
       "      <td>99929</td>\n",
       "      <td>56.471638</td>\n",
       "      <td>-132.38686</td>\n",
       "      <td>99999.0</td>\n",
       "      <td>0</td>\n",
       "      <td>-1</td>\n",
       "      <td>NaN</td>\n",
       "      <td>NaN</td>\n",
       "    </tr>\n",
       "    <tr>\n",
       "      <th>3</th>\n",
       "      <td>2067488502</td>\n",
       "      <td>Petersburg Properties, LLC</td>\n",
       "      <td>3.0</td>\n",
       "      <td>1.0</td>\n",
       "      <td>1500.0</td>\n",
       "      <td>SINGLE_FAMILY</td>\n",
       "      <td>FOR_SALE</td>\n",
       "      <td>Wrangell</td>\n",
       "      <td>99929</td>\n",
       "      <td>NaN</td>\n",
       "      <td>NaN</td>\n",
       "      <td>495000.0</td>\n",
       "      <td>0</td>\n",
       "      <td>-1</td>\n",
       "      <td>NaN</td>\n",
       "      <td>NaN</td>\n",
       "    </tr>\n",
       "    <tr>\n",
       "      <th>4</th>\n",
       "      <td>249518139</td>\n",
       "      <td>NaN</td>\n",
       "      <td>5.0</td>\n",
       "      <td>3.0</td>\n",
       "      <td>2080.0</td>\n",
       "      <td>SINGLE_FAMILY</td>\n",
       "      <td>FOR_SALE</td>\n",
       "      <td>Wrangell</td>\n",
       "      <td>99929</td>\n",
       "      <td>56.475697</td>\n",
       "      <td>-132.38905</td>\n",
       "      <td>405000.0</td>\n",
       "      <td>0</td>\n",
       "      <td>-1</td>\n",
       "      <td>NaN</td>\n",
       "      <td>NaN</td>\n",
       "    </tr>\n",
       "  </tbody>\n",
       "</table>\n",
       "</div>"
      ],
      "text/plain": [
       "   property_id                 agency_name  ...  year_build  total_num_units\n",
       "0   2064212272           Anchor Properties  ...         NaN              NaN\n",
       "1    249518113                         NaN  ...         NaN              NaN\n",
       "2   2077729913                         NaN  ...         NaN              NaN\n",
       "3   2067488502  Petersburg Properties, LLC  ...         NaN              NaN\n",
       "4    249518139                         NaN  ...         NaN              NaN\n",
       "\n",
       "[5 rows x 16 columns]"
      ]
     },
     "execution_count": 19,
     "metadata": {},
     "output_type": "execute_result"
    }
   ],
   "source": [
    "final_df.head()"
   ]
  },
  {
   "cell_type": "code",
   "execution_count": null,
   "metadata": {
    "application/vnd.databricks.v1+cell": {
     "cellMetadata": {
      "byteLimit": 2048000,
      "rowLimit": 10000
     },
     "inputWidgets": {},
     "nuid": "30f202a2-e854-418b-b781-1d01d2ce046b",
     "showTitle": false,
     "title": ""
    }
   },
   "outputs": [
    {
     "name": "stdout",
     "output_type": "stream",
     "text": [
      "Coldwell Banker Realty    5936\n",
      "Compass                   4470\n",
      "eXp Realty                3570\n",
      "Name: agency_name, dtype: int64\n"
     ]
    }
   ],
   "source": [
    "top_n = 3  # change this to get the top 'n' agencies\n",
    "top_agencies = final_df['agency_name'].value_counts().head(top_n)\n",
    "print(top_agencies)"
   ]
  },
  {
   "cell_type": "code",
   "execution_count": null,
   "metadata": {
    "application/vnd.databricks.v1+cell": {
     "cellMetadata": {
      "byteLimit": 2048000,
      "rowLimit": 10000
     },
     "inputWidgets": {},
     "nuid": "cc9d4cdc-653c-4cfe-b77d-48cc4ec5df70",
     "showTitle": false,
     "title": ""
    }
   },
   "outputs": [
    {
     "name": "stdout",
     "output_type": "stream",
     "text": [
      "Chicago        14138\n",
      "Houston        11404\n",
      "San Antonio     7767\n",
      "Las Vegas       6303\n",
      "Los Angeles     4593\n",
      "Name: city, dtype: int64\n"
     ]
    }
   ],
   "source": [
    "top_n = 5  # change this to get the top 'n' agencies\n",
    "top_agencies = final_df['city'].value_counts().head(top_n)\n",
    "print(top_agencies)"
   ]
  },
  {
   "cell_type": "code",
   "execution_count": null,
   "metadata": {
    "application/vnd.databricks.v1+cell": {
     "cellMetadata": {
      "byteLimit": 2048000,
      "rowLimit": 10000
     },
     "inputWidgets": {},
     "nuid": "3a28a152-f915-4d3f-bdff-7773e786efbf",
     "showTitle": false,
     "title": ""
    }
   },
   "outputs": [
    {
     "name": "stdout",
     "output_type": "stream",
     "text": [
      "SINGLE_FAMILY    354366\n",
      "LOT              154662\n",
      "CONDO             36814\n",
      "TOWNHOUSE         20108\n",
      "MANUFACTURED      17220\n",
      "MULTI_FAMILY      16481\n",
      "APARTMENT           349\n",
      "Name: property_type, dtype: int64\n"
     ]
    }
   ],
   "source": [
    "top_n = 100  # change this to get the top 'n' agencies\n",
    "top_types = final_df['property_type'].value_counts().head(top_n)\n",
    "print(top_types)"
   ]
  },
  {
   "cell_type": "markdown",
   "metadata": {
    "application/vnd.databricks.v1+cell": {
     "cellMetadata": {},
     "inputWidgets": {},
     "nuid": "0feb30e5-2cb3-486e-8bbe-1bb6b06c36c5",
     "showTitle": false,
     "title": ""
    }
   },
   "source": [
    "# Narrowing the data to single family homes in Chicago"
   ]
  },
  {
   "cell_type": "code",
   "execution_count": null,
   "metadata": {
    "application/vnd.databricks.v1+cell": {
     "cellMetadata": {
      "byteLimit": 2048000,
      "rowLimit": 10000
     },
     "inputWidgets": {},
     "nuid": "0fe8cc0e-cde3-44a5-a2d0-da58ff9db901",
     "showTitle": false,
     "title": ""
    }
   },
   "outputs": [],
   "source": [
    "##create a DF just for chicago. (we need to have all values in numerical format)\n",
    "\n",
    "chicago_df = final_df[(final_df['city'] == 'Chicago') & (final_df['property_type'] == 'SINGLE_FAMILY')][['property_id', 'bedroom_number', 'bathroom_number','living_space', 'price', 'latitude', 'longitude', 'postcode']]"
   ]
  },
  {
   "cell_type": "code",
   "execution_count": null,
   "metadata": {
    "application/vnd.databricks.v1+cell": {
     "cellMetadata": {
      "byteLimit": 2048000,
      "rowLimit": 10000
     },
     "inputWidgets": {},
     "nuid": "8db9f700-c80c-463a-b9b3-55fb6d8b9110",
     "showTitle": false,
     "title": ""
    }
   },
   "outputs": [],
   "source": [
    "from sklearn.model_selection import train_test_split\n",
    "from sklearn.ensemble import RandomForestRegressor, GradientBoostingRegressor\n",
    "from sklearn.metrics import mean_squared_error"
   ]
  },
  {
   "cell_type": "code",
   "execution_count": null,
   "metadata": {
    "application/vnd.databricks.v1+cell": {
     "cellMetadata": {
      "byteLimit": 2048000,
      "rowLimit": 10000
     },
     "inputWidgets": {},
     "nuid": "5b0f3962-c971-45ff-9b22-76d8b874cec1",
     "showTitle": false,
     "title": ""
    }
   },
   "outputs": [],
   "source": [
    "##One hot encoding to convert strings to numerical values\n",
    "## create new columns for 'CONDO' , 'SINGLE_FAMILY', 'MULTI-FAMILY', 'TOWNHOUSE', 'MANUFACTURED' with no data in them right away, then fill in, and create new dataframe.\n",
    "## Drop the 'LOT' type as it will throw off our training data\n",
    "## 0 for not that type, 1 for that type of property"
   ]
  },
  {
   "cell_type": "code",
   "execution_count": null,
   "metadata": {
    "application/vnd.databricks.v1+cell": {
     "cellMetadata": {
      "byteLimit": 2048000,
      "rowLimit": 10000
     },
     "inputWidgets": {},
     "nuid": "864b421c-3839-43f1-9f60-3a7385b5d716",
     "showTitle": false,
     "title": ""
    }
   },
   "outputs": [
    {
     "name": "stdout",
     "output_type": "stream",
     "text": [
      "[   4096493    4096811    4097533 ...  101440827    3846574 2075746714]\n",
      "[ 3.  4.  2.  5.  6.  7.  8.  9.  1.  0. 12.]\n",
      "[ 2.  1.  3.  4.  5.  6.  7.  8. nan  9. 11. 10. 13.]\n",
      "[1417. 1300. 1098. ... 1684. 5457. 7900.]\n",
      "[1.999000e+05 3.150000e+05 3.099000e+05 3.499000e+05 2.599000e+05\n",
      " 3.650000e+05 1.399000e+05 5.399000e+05 5.599000e+05 4.299000e+05\n",
      " 1.250000e+05 2.999000e+05 2.440000e+05 3.990000e+05 4.250000e+05\n",
      " 7.990000e+05 4.490000e+05 4.990000e+05 3.699000e+05 3.799000e+05\n",
      " 3.399000e+05 5.250000e+05 4.249000e+05 4.000000e+05 4.599000e+05\n",
      " 5.999000e+05 5.199990e+05 8.499000e+05 4.199000e+05 3.290000e+05\n",
      " 5.000000e+05 4.099000e+05 3.349000e+05 3.750000e+05 6.250000e+05\n",
      " 4.899000e+05 6.499000e+05 3.899000e+05 6.299000e+05 4.475000e+05\n",
      " 5.949000e+05 5.255550e+05 4.150000e+05 2.250000e+05 3.980000e+05\n",
      " 4.999990e+05 4.390000e+05 4.499990e+05 4.149000e+05 4.790000e+05\n",
      " 7.250000e+05 4.800000e+05 8.650000e+05 2.000000e+06 8.500000e+05\n",
      " 7.799000e+05 6.290000e+05 2.990000e+05 2.649000e+05 2.520000e+05\n",
      " 0.000000e+00 2.890000e+05 3.249000e+05 3.120000e+05 1.950000e+05\n",
      " 2.450000e+05 3.299000e+05 2.190000e+05 1.600000e+05 2.090000e+05\n",
      " 2.790000e+05 1.750000e+05 2.600000e+05 2.500000e+05 2.899000e+05\n",
      " 1.199000e+05 2.199000e+05 3.050000e+05 2.485000e+05 2.799000e+05\n",
      " 2.749000e+05 2.948720e+05 2.339330e+05 1.850000e+05 3.345000e+05\n",
      " 2.870000e+05 3.400000e+05 2.820000e+05 3.190000e+05 2.400000e+05\n",
      " 2.100000e+05 1.690000e+05 2.499000e+05 3.000000e+05 1.650000e+05\n",
      " 2.130000e+05 2.699000e+05 1.980000e+05 3.199000e+05 2.849000e+05\n",
      " 2.490000e+05 2.549000e+05 3.449000e+05 2.689000e+05 4.439000e+05\n",
      " 6.990000e+05 2.250530e+05 1.890000e+05 2.449000e+05 1.050000e+05\n",
      " 2.654000e+05 2.995000e+05 2.690000e+05 2.559000e+05 2.299000e+05\n",
      " 2.650000e+05 2.390000e+05 2.750000e+05 2.399000e+05 3.550000e+05\n",
      " 1.299000e+05 3.100000e+05 5.150000e+05 3.390000e+05 9.250000e+05\n",
      " 1.799000e+05 6.500000e+05 4.495000e+05 4.499000e+05 8.950000e+05\n",
      " 7.999000e+05 2.710000e+05 7.990000e+04 3.165000e+05 6.490000e+04\n",
      " 3.790000e+04 5.500000e+04 1.800000e+05 5.100000e+05 6.099000e+05\n",
      " 5.620000e+05 3.800000e+05 1.700000e+05 3.775000e+05 4.499950e+05\n",
      " 1.100000e+06 8.990000e+05 2.150000e+06 1.245000e+06 1.400000e+05\n",
      " 1.900000e+05 4.990000e+04 9.390000e+05 3.490000e+05 2.150000e+05\n",
      " 3.849000e+05 1.150000e+05 3.890000e+05 7.250000e+04 2.050000e+05\n",
      " 8.500000e+04 6.990000e+04 2.499990e+05 2.300000e+05 1.200000e+05\n",
      " 3.989000e+05 4.400000e+05 5.149000e+05 7.000000e+05 3.999000e+05\n",
      " 2.700000e+05 2.099990e+05 1.450000e+05 3.099000e+06 3.749000e+05\n",
      " 6.950000e+05 4.590000e+05 5.550000e+05 9.500000e+05 7.650000e+05\n",
      " 4.840000e+05 6.899990e+05 7.000000e+04 2.399990e+05 4.890000e+05\n",
      " 4.799000e+05 3.690000e+05 8.245000e+05 4.950000e+05 4.750000e+05\n",
      " 1.320000e+05 3.950000e+05 6.190000e+05 1.300000e+05 2.590000e+05\n",
      " 5.990000e+04 6.798730e+05 4.900000e+04 3.300000e+05 3.850000e+05\n",
      " 1.639000e+05 1.649000e+05 1.049000e+06 5.999990e+05 8.249000e+05\n",
      " 4.050000e+05 3.450000e+05 2.449990e+05 2.959950e+05 1.100000e+05\n",
      " 2.149990e+05 2.195000e+05 1.699990e+05 1.990000e+05 1.500000e+05\n",
      " 9.900000e+04 2.489000e+05 1.699000e+05 4.500000e+05 1.947000e+05\n",
      " 9.990000e+04 5.750000e+04 1.499000e+05 2.375000e+05 1.490000e+05\n",
      " 4.000000e+04 1.959000e+05 7.999900e+04 1.999990e+05 8.000000e+04\n",
      " 9.750000e+05 9.000000e+04 1.550000e+05 5.990000e+05 3.849990e+05\n",
      " 2.950000e+05 1.480000e+05 1.099000e+05 7.490000e+05 6.000000e+04\n",
      " 5.499000e+05 5.890000e+05 3.500000e+05 3.250000e+05 4.899990e+05\n",
      " 6.590000e+05 4.999000e+05 1.099000e+06 8.290000e+05 1.599990e+05\n",
      " 6.580000e+05 1.349000e+06 6.790000e+05 3.790000e+05 7.750000e+05\n",
      " 8.490000e+05 7.490000e+04 9.200000e+04 1.999999e+06 7.999000e+04\n",
      " 8.599000e+05 2.290000e+05 1.595000e+06 6.780000e+05 2.089000e+05\n",
      " 8.900000e+04 4.200000e+04 8.240000e+04 6.500000e+04 4.100000e+05\n",
      " 7.950000e+05 8.900000e+05 7.649000e+05 2.900000e+05 1.590000e+05\n",
      " 8.490000e+04 1.390000e+05 7.900000e+04 7.200000e+05 6.650000e+05\n",
      " 7.499000e+05 6.799000e+05 4.975000e+05 6.490000e+05 7.500000e+05\n",
      " 7.290000e+05 5.249000e+05 6.999000e+05 7.450000e+05 1.150000e+06\n",
      " 6.495000e+05 3.599000e+05 4.799990e+05 5.750000e+05 6.390000e+05\n",
      " 1.295000e+05 1.381000e+05 5.430000e+05 9.000000e+05 7.400000e+05\n",
      " 9.350000e+04 7.350000e+05 5.690000e+05 6.899000e+05 6.750000e+05\n",
      " 6.800000e+05 5.350000e+05 1.215000e+05 1.199000e+06 9.999000e+05\n",
      " 5.900000e+05 6.599000e+05 8.999990e+05 1.899000e+05 2.395000e+06\n",
      " 1.000000e+05 8.990000e+04 3.099950e+05 2.550000e+05 1.349000e+05\n",
      " 1.090000e+05 1.365000e+05 7.500000e+04 5.800000e+04 2.280000e+05\n",
      " 2.099000e+05 1.500000e+04 3.100000e+04 1.190000e+05 7.100000e+04\n",
      " 1.389000e+05 1.499500e+05 1.180000e+05 1.799990e+05 2.800000e+05\n",
      " 1.249000e+05 7.300000e+04 2.749900e+05 1.159000e+05 3.900000e+04\n",
      " 3.500000e+04 1.975000e+06 1.195000e+06 1.275000e+06 1.500000e+06\n",
      " 8.699000e+05 8.000000e+05 3.470000e+05 1.499000e+06 5.099000e+05\n",
      " 3.500000e+06 1.295000e+06 2.599990e+05 2.295000e+05 7.950000e+04\n",
      " 1.010000e+05 2.630000e+05 2.859000e+05 2.659000e+05 1.579000e+05\n",
      " 1.549000e+05 9.330000e+04 1.949000e+05 7.790000e+05 1.249000e+06\n",
      " 1.200000e+06 3.250000e+06 8.350000e+05 2.249000e+05 1.350000e+05\n",
      " 6.390000e+04 3.140000e+05 1.399900e+06 2.365000e+05 1.599000e+05\n",
      " 1.749990e+05 2.259000e+05 1.300000e+06 5.800000e+05 2.250000e+06\n",
      " 1.109000e+05 1.499900e+06 8.600000e+04 1.450000e+06 9.950000e+04\n",
      " 9.499000e+05 5.900000e+04 2.049990e+05 2.545000e+05 3.590000e+05\n",
      " 1.990000e+06 2.224730e+05 3.975000e+04 9.999900e+04 1.649990e+05\n",
      " 2.099980e+05 7.850000e+05 6.898000e+05 7.298000e+05 6.998000e+05\n",
      " 1.495000e+06 1.400000e+06 5.790000e+05 1.355000e+05 7.690000e+04\n",
      " 1.849000e+05 9.700000e+03 2.200000e+04 4.700000e+04 2.350000e+05\n",
      " 7.800000e+04 4.500000e+04 7.390000e+05 6.900000e+04 1.689000e+05\n",
      " 1.925000e+05 2.759000e+05 2.200000e+05 2.069000e+05 8.690000e+04\n",
      " 2.000000e+05 4.350000e+05 1.530000e+05 8.250000e+05 1.949990e+05\n",
      " 3.749500e+05 1.109990e+05 5.595000e+05 5.390000e+04 6.000000e+05\n",
      " 1.655000e+05 7.390000e+04 9.500000e+04 1.149000e+05 3.855000e+05\n",
      " 1.250000e+06 4.090000e+05 1.800000e+06 3.990000e+04 1.269000e+06\n",
      " 4.300000e+04 7.000000e+03 2.920000e+05 2.080000e+05 2.740000e+05\n",
      " 3.200000e+05 1.995000e+05 9.990000e+05 4.290000e+05 2.610000e+05\n",
      " 1.370000e+05 1.920000e+06 3.000000e+04 2.199990e+05 1.790000e+05\n",
      " 1.289000e+06 1.820000e+05 1.485000e+05 1.309000e+05 4.850000e+05\n",
      " 8.400000e+04 4.299990e+05 2.049980e+05 3.650000e+06 2.495000e+05\n",
      " 1.494000e+05 1.080000e+05 3.200000e+06 9.400000e+04 3.700000e+04\n",
      " 1.479000e+05 1.749000e+05 1.089000e+05 2.850000e+05 9.999500e+05\n",
      " 5.300000e+04 1.380000e+06 3.175000e+05 4.690000e+05 5.950000e+05\n",
      " 1.990000e+04 4.190000e+04 3.350000e+05 5.400000e+05 5.650000e+05\n",
      " 1.890000e+06 5.499900e+04 4.749000e+05 4.870000e+05 3.399990e+05\n",
      " 3.900000e+06 1.899500e+06 1.249900e+06 2.798880e+05 3.090000e+05\n",
      " 2.170000e+05 1.545000e+05 9.799000e+05 8.690000e+05 5.395000e+05\n",
      " 6.497700e+05 1.120000e+05 3.595000e+05 2.349000e+05 2.097000e+05\n",
      " 1.999900e+05 2.299990e+05 1.755000e+05 3.680000e+05 6.150000e+04\n",
      " 2.045000e+05 3.725000e+05 1.430000e+05 5.490000e+05 2.577840e+05\n",
      " 3.299990e+05 5.749000e+05 3.499990e+05 2.949000e+05 3.720000e+05\n",
      " 3.600000e+05 2.148730e+05 4.744000e+05 1.979000e+05 1.600000e+06\n",
      " 2.999990e+05 2.980000e+05 2.149000e+05 3.799870e+05 2.795000e+05\n",
      " 4.650000e+05 1.175000e+06 2.879000e+05 2.749990e+05 3.219000e+05\n",
      " 2.689900e+05 2.620000e+05 2.829000e+05 2.655500e+05 3.298730e+05\n",
      " 3.479000e+05 2.849990e+05 3.149000e+05 3.145000e+05 2.799990e+05\n",
      " 2.320000e+05 2.348720e+05 4.700000e+05 3.999990e+05 2.899990e+05\n",
      " 5.649000e+05 5.865000e+05 3.429000e+05 1.449000e+05 2.910000e+05\n",
      " 3.099990e+05 4.399000e+05 1.475000e+05 2.079000e+05 2.569000e+05\n",
      " 4.847700e+05 2.680000e+05 2.640000e+05 1.960000e+05 8.100000e+04\n",
      " 2.359000e+05 5.190000e+05 4.245000e+05 1.440000e+05 4.450000e+05\n",
      " 4.670000e+05 3.459000e+05 4.199990e+05 3.148730e+05 7.249000e+05\n",
      " 4.640000e+05 1.459000e+05 5.000000e+04 2.970000e+05 1.630000e+05\n",
      " 3.740000e+05 9.250000e+04 3.049000e+05 3.049990e+05 2.930000e+05\n",
      " 3.930000e+05 3.995000e+05 4.200000e+05 9.600000e+04 5.450000e+05\n",
      " 2.510000e+05 9.890000e+05 2.490000e+04 4.175000e+05 8.590000e+05\n",
      " 9.890000e+04 4.699000e+05 5.899000e+05 1.815000e+05 2.059000e+05\n",
      " 3.239000e+05 3.245000e+05 1.499990e+05 2.875000e+05 6.240000e+05\n",
      " 4.300000e+05 6.690000e+05 1.030000e+05 4.240000e+04 1.849990e+05\n",
      " 1.895000e+05 2.781000e+05 5.199000e+05 1.760000e+05 3.259000e+05\n",
      " 5.500000e+05 7.199000e+05 2.540000e+05 2.670000e+05 1.274990e+05\n",
      " 2.229000e+05 2.934000e+05 3.450000e+04 1.889000e+05 2.405000e+05\n",
      " 1.759000e+05 1.199990e+05 1.129000e+05 1.875000e+05 1.659990e+05\n",
      " 5.349000e+05 1.689990e+05 1.620000e+05 8.497000e+05 8.390000e+05\n",
      " 1.955000e+05 1.079000e+06 8.999000e+05 3.050000e+04 4.290000e+04\n",
      " 3.049950e+05 8.700000e+04 2.979000e+05 1.640000e+05 2.355000e+05\n",
      " 4.850000e+04 2.877770e+05 6.997770e+05 6.150000e+05 4.685000e+05\n",
      " 7.899000e+05 5.200000e+05 6.749000e+05 4.147000e+05 7.800000e+05\n",
      " 8.890000e+05 8.995000e+05 4.989990e+05 7.150000e+05 1.850000e+06\n",
      " 3.380000e+05 1.625000e+06 3.330000e+05 4.142220e+05 1.525000e+06\n",
      " 2.999000e+06 8.790000e+05 4.550000e+05 3.950000e+06 9.800000e+04\n",
      " 1.040000e+05 1.220000e+05 1.399000e+06 2.949990e+05 3.565000e+06\n",
      " 1.290000e+06 2.195000e+06 3.190000e+06 3.580000e+05 2.935000e+05\n",
      " 2.595000e+06 3.395000e+05 1.989990e+05 5.490000e+04 2.149000e+06\n",
      " 1.799999e+06 3.625000e+05 1.240000e+05 4.996130e+05 2.705000e+05\n",
      " 2.650000e+06 1.935000e+06 6.800000e+04 1.379000e+05 7.290000e+04\n",
      " 3.260000e+05 2.099000e+06 2.780000e+05 5.850000e+05 9.900000e+05\n",
      " 1.000000e+06 2.600000e+06 3.750000e+06 1.750000e+06 6.500000e+06\n",
      " 9.790000e+04 1.290000e+05 3.055000e+05 4.300000e+06 1.649000e+06\n",
      " 8.750000e+05 3.180000e+05 3.210000e+05 2.137500e+05 2.245000e+05\n",
      " 3.125000e+06 1.700000e+06 1.179000e+06 1.635000e+06 1.799000e+06\n",
      " 2.580000e+05 1.899990e+05 2.395000e+05 2.899500e+04 2.350000e+06\n",
      " 7.790000e+04 9.650000e+05 1.795000e+05 1.680000e+05 8.890000e+04\n",
      " 1.339000e+05 2.289000e+05 3.700000e+06 2.499000e+06 1.475000e+06\n",
      " 6.300000e+06 6.288888e+06 3.795000e+06 1.869000e+06 1.650000e+06\n",
      " 1.069000e+06 6.850000e+05 1.325000e+06 5.699000e+06 9.150000e+05\n",
      " 1.124900e+06 1.580000e+06 9.150000e+06 3.995000e+06 1.995000e+06\n",
      " 7.749000e+05 1.279000e+06 1.324200e+06 2.399000e+06 3.299900e+06\n",
      " 2.295000e+06 2.800000e+06 1.725000e+06 1.390000e+06 5.795000e+06\n",
      " 8.899000e+05 3.495000e+06 4.995000e+06 2.895000e+06 1.497000e+06\n",
      " 2.500000e+06 1.699900e+06 2.775000e+06 1.695000e+06 1.519000e+05\n",
      " 9.985000e+05 3.100000e+06 1.899000e+06 2.175000e+06 3.850000e+06\n",
      " 1.749000e+06 1.689000e+06 1.575000e+06 6.295000e+06 3.430000e+05\n",
      " 2.050000e+06 9.490000e+05 2.249900e+06 6.200000e+06 1.599999e+06\n",
      " 3.859000e+05 1.840000e+05 2.434000e+05 1.190000e+06 2.999999e+06\n",
      " 1.795000e+06 2.750000e+06 1.950000e+06 8.430000e+05 5.500000e+06\n",
      " 8.980000e+05 7.000000e+06 4.873999e+06 5.250000e+06 1.895000e+06\n",
      " 4.400000e+06 1.800000e+07 6.800000e+06 4.750000e+06 9.500000e+06\n",
      " 2.575000e+06 8.550000e+05 1.875000e+07 4.200000e+06 9.350000e+06\n",
      " 3.649990e+05 4.540000e+05 6.890000e+05 5.590000e+05 4.190000e+05\n",
      " 9.999990e+05 3.155000e+05 5.290000e+05 2.475000e+06 3.080000e+05\n",
      " 4.949000e+05 3.455000e+05 3.900000e+05 3.645000e+05 1.245000e+05\n",
      " 4.299900e+05 3.699900e+05 6.399000e+05 3.130000e+05 7.645000e+05\n",
      " 6.360000e+04 3.060000e+05 3.799990e+05 3.820000e+06 5.489000e+05\n",
      " 2.080000e+02 8.850000e+05 2.300000e+06 2.950000e+06 1.000000e+07\n",
      " 1.900000e+06 2.200000e+06 2.700000e+06 3.600000e+06 8.389000e+05\n",
      " 2.270000e+05 8.498700e+04 1.939900e+05 2.265000e+06 1.799900e+06\n",
      " 1.550000e+06 1.785000e+06 3.699060e+05 2.830000e+05 2.225000e+05\n",
      " 5.250000e+04 1.849900e+06 1.730000e+05 8.977000e+05 1.874900e+06\n",
      " 1.809000e+05 3.699990e+05 2.695000e+05 2.940000e+05 1.279000e+05\n",
      " 2.290000e+04 3.700000e+05 2.345000e+05 3.840000e+05 3.949990e+05\n",
      " 3.598730e+05 2.120000e+05 2.049000e+05 1.629000e+05 4.790000e+04\n",
      " 8.300000e+04 2.889000e+05 2.240000e+05 2.210000e+05 8.692000e+04\n",
      " 1.289000e+05 1.090000e+06 6.249000e+05 1.675000e+06 9.199000e+05\n",
      " 5.390000e+05 1.875000e+06 1.089000e+06 9.300000e+05 9.149900e+04\n",
      " 1.375000e+05 3.249500e+06 1.697000e+06 1.720000e+05 7.325000e+05\n",
      " 3.199990e+05 3.845000e+05 2.189000e+06 1.540000e+06 2.199000e+06\n",
      " 2.319000e+05 1.050000e+06 7.999500e+04 2.039000e+05 1.270000e+05\n",
      " 9.350000e+05 1.195500e+06 2.599000e+06 7.995000e+05 5.259000e+05\n",
      " 9.949000e+05 8.740000e+05 4.649000e+05 4.170000e+05 7.970000e+05\n",
      " 7.699000e+05 1.029000e+06 3.949000e+05 5.275000e+05 8.190000e+05\n",
      " 4.140000e+05 8.715000e+05 6.170000e+05 1.349900e+06 1.098000e+06\n",
      " 1.350000e+06 2.340000e+05 5.050000e+05 1.680000e+06 1.999000e+06\n",
      " 1.699000e+06 4.599000e+06 1.020000e+06 2.459000e+05 1.276000e+05\n",
      " 5.995000e+04 2.470000e+05 5.650000e+04 4.047770e+05 9.275000e+04\n",
      " 1.670000e+05 1.999950e+05 1.664000e+05 2.159000e+05 1.099999e+06\n",
      " 1.095000e+06 1.699500e+06 1.365000e+06 6.199000e+05 1.647500e+06\n",
      " 1.599000e+06 1.320000e+06 7.399000e+05 1.299000e+06 1.075000e+06\n",
      " 1.945000e+06 1.599900e+06 1.145000e+06 1.049000e+05 1.024900e+06\n",
      " 1.048000e+06 7.799990e+05 2.389000e+05 6.300000e+05 2.049000e+06\n",
      " 5.919990e+05 1.775000e+06 1.999900e+06 2.100000e+06 3.395000e+06\n",
      " 2.850000e+06 5.995000e+06 6.400000e+05]\n",
      "[41.69026  41.686848 41.682007 ... 41.903458 41.902176 41.902706]\n",
      "[-87.70774  -87.710045 -87.71132  ... -87.62679  -87.627396 -87.6269  ]\n",
      "[60655 60803 60656 60660 60652 60643 60647 60609 60616 60608 60653 60632\n",
      " 60636 60612 60644 60607 60628 60637 60640 60639 60618 60641 60634 60654\n",
      " 60620 60629 60645 60638 60624 60621 60630 60646 60625 60617 60613 60614\n",
      " 60659 60622 60603 60651 60610 60642 60615 60605 60626 60601 60619 60657\n",
      " 60631 60623 60649 60633 60411 60302 60426 60611]\n"
     ]
    }
   ],
   "source": [
    "for property_type in chicago_df:\n",
    "    print(chicago_df[property_type].unique())"
   ]
  },
  {
   "cell_type": "code",
   "execution_count": null,
   "metadata": {
    "application/vnd.databricks.v1+cell": {
     "cellMetadata": {
      "byteLimit": 2048000,
      "rowLimit": 10000
     },
     "inputWidgets": {},
     "nuid": "2e82b000-8ce4-4a82-bd5e-34c7a47a82f2",
     "showTitle": false,
     "title": ""
    }
   },
   "outputs": [],
   "source": [
    "#chicago_df.drop(chicago_df[chicago_df['property_type'] == 'LOT'].index, inplace = True)\n",
    "#chicago_df.drop(chicago_df[chicago_df['property_type'] == 'MANUFACTURED'].index, inplace = True)"
   ]
  },
  {
   "cell_type": "code",
   "execution_count": null,
   "metadata": {
    "application/vnd.databricks.v1+cell": {
     "cellMetadata": {
      "byteLimit": 2048000,
      "rowLimit": 10000
     },
     "inputWidgets": {},
     "nuid": "30af6a1b-0cf0-4dd0-9913-99d5af26c611",
     "showTitle": false,
     "title": ""
    }
   },
   "outputs": [
    {
     "name": "stdout",
     "output_type": "stream",
     "text": [
      "60655\n",
      "60803\n",
      "60656\n",
      "60660\n",
      "60652\n",
      "60643\n",
      "60647\n",
      "60609\n",
      "60616\n",
      "60608\n",
      "60653\n",
      "60632\n",
      "60636\n",
      "60612\n",
      "60644\n",
      "60607\n",
      "60628\n",
      "60637\n",
      "60640\n",
      "60639\n",
      "60618\n",
      "60641\n",
      "60634\n",
      "60654\n",
      "60620\n",
      "60629\n",
      "60645\n",
      "60638\n",
      "60624\n",
      "60621\n",
      "60630\n",
      "60646\n",
      "60625\n",
      "60617\n",
      "60613\n",
      "60614\n",
      "60659\n",
      "60622\n",
      "60603\n",
      "60651\n",
      "60610\n",
      "60642\n",
      "60615\n",
      "60605\n",
      "60626\n",
      "60601\n",
      "60619\n",
      "60657\n",
      "60631\n",
      "60623\n",
      "60649\n",
      "60633\n",
      "60411\n",
      "60302\n",
      "60426\n",
      "60611\n"
     ]
    }
   ],
   "source": [
    "# Get unique values in 'postcode'\n",
    "unique_postcodes = chicago_df['postcode'].unique()\n",
    "\n",
    "# Print unique values\n",
    "for postcode in unique_postcodes:\n",
    "    print(postcode)"
   ]
  },
  {
   "cell_type": "markdown",
   "metadata": {
    "application/vnd.databricks.v1+cell": {
     "cellMetadata": {},
     "inputWidgets": {},
     "nuid": "ae0220e5-5426-4a4e-9408-c84604e1334a",
     "showTitle": false,
     "title": ""
    }
   },
   "source": [
    "# Condensing the postcode "
   ]
  },
  {
   "cell_type": "code",
   "execution_count": null,
   "metadata": {
    "application/vnd.databricks.v1+cell": {
     "cellMetadata": {
      "byteLimit": 2048000,
      "rowLimit": 10000
     },
     "inputWidgets": {},
     "nuid": "f58c073d-1960-4f81-97b1-2d246542c3e6",
     "showTitle": false,
     "title": ""
    }
   },
   "outputs": [],
   "source": [
    "from sklearn.preprocessing import LabelEncoder\n",
    "\n",
    "# Create a label encoder\n",
    "le = LabelEncoder()\n",
    "\n",
    "# Fit the encoder and transform the 'postcode' column\n",
    "chicago_df['post_code'] = le.fit_transform(chicago_df['postcode'])\n",
    "\n",
    "# Drop the original 'postcode' column\n",
    "chicago_df = chicago_df.drop('postcode', axis=1)"
   ]
  },
  {
   "cell_type": "code",
   "execution_count": null,
   "metadata": {
    "application/vnd.databricks.v1+cell": {
     "cellMetadata": {
      "byteLimit": 2048000,
      "rowLimit": 10000
     },
     "inputWidgets": {},
     "nuid": "43f7f752-cbfa-498b-861a-85963a6eb3bf",
     "showTitle": false,
     "title": ""
    }
   },
   "outputs": [
    {
     "name": "stdout",
     "output_type": "stream",
     "text": [
      "False\n"
     ]
    }
   ],
   "source": [
    "##find if we have nan or null data\n",
    "\n",
    "check_nan = chicago_df['price'].isnull().values.any()\n",
    " \n",
    "# printing the result\n",
    "print(check_nan)"
   ]
  },
  {
   "cell_type": "code",
   "execution_count": null,
   "metadata": {
    "application/vnd.databricks.v1+cell": {
     "cellMetadata": {
      "byteLimit": 2048000,
      "rowLimit": 10000
     },
     "inputWidgets": {},
     "nuid": "7ee9db97-cc9b-48d7-8bed-5801fcf92c9f",
     "showTitle": false,
     "title": ""
    }
   },
   "outputs": [
    {
     "data": {
      "text/html": [
       "<div>\n",
       "<style scoped>\n",
       "    .dataframe tbody tr th:only-of-type {\n",
       "        vertical-align: middle;\n",
       "    }\n",
       "\n",
       "    .dataframe tbody tr th {\n",
       "        vertical-align: top;\n",
       "    }\n",
       "\n",
       "    .dataframe thead th {\n",
       "        text-align: right;\n",
       "    }\n",
       "</style>\n",
       "<table border=\"1\" class=\"dataframe\">\n",
       "  <thead>\n",
       "    <tr style=\"text-align: right;\">\n",
       "      <th></th>\n",
       "      <th>property_id</th>\n",
       "      <th>bedroom_number</th>\n",
       "      <th>bathroom_number</th>\n",
       "      <th>living_space</th>\n",
       "      <th>price</th>\n",
       "      <th>latitude</th>\n",
       "      <th>longitude</th>\n",
       "      <th>post_code</th>\n",
       "    </tr>\n",
       "  </thead>\n",
       "  <tbody>\n",
       "    <tr>\n",
       "      <th>572679</th>\n",
       "      <td>4096493</td>\n",
       "      <td>3.0</td>\n",
       "      <td>2.0</td>\n",
       "      <td>1417.0</td>\n",
       "      <td>199900.0</td>\n",
       "      <td>41.690260</td>\n",
       "      <td>-87.707740</td>\n",
       "      <td>50</td>\n",
       "    </tr>\n",
       "    <tr>\n",
       "      <th>572683</th>\n",
       "      <td>4096811</td>\n",
       "      <td>3.0</td>\n",
       "      <td>2.0</td>\n",
       "      <td>1300.0</td>\n",
       "      <td>315000.0</td>\n",
       "      <td>41.686848</td>\n",
       "      <td>-87.710045</td>\n",
       "      <td>50</td>\n",
       "    </tr>\n",
       "    <tr>\n",
       "      <th>572688</th>\n",
       "      <td>4097533</td>\n",
       "      <td>4.0</td>\n",
       "      <td>2.0</td>\n",
       "      <td>1300.0</td>\n",
       "      <td>309900.0</td>\n",
       "      <td>41.682007</td>\n",
       "      <td>-87.711320</td>\n",
       "      <td>50</td>\n",
       "    </tr>\n",
       "    <tr>\n",
       "      <th>572701</th>\n",
       "      <td>4098042</td>\n",
       "      <td>3.0</td>\n",
       "      <td>2.0</td>\n",
       "      <td>1098.0</td>\n",
       "      <td>349900.0</td>\n",
       "      <td>41.682095</td>\n",
       "      <td>-87.705696</td>\n",
       "      <td>50</td>\n",
       "    </tr>\n",
       "    <tr>\n",
       "      <th>572722</th>\n",
       "      <td>113956069</td>\n",
       "      <td>3.0</td>\n",
       "      <td>2.0</td>\n",
       "      <td>1710.0</td>\n",
       "      <td>259900.0</td>\n",
       "      <td>41.671726</td>\n",
       "      <td>-87.711460</td>\n",
       "      <td>55</td>\n",
       "    </tr>\n",
       "  </tbody>\n",
       "</table>\n",
       "</div>"
      ],
      "text/plain": [
       "        property_id  bedroom_number  ...  longitude  post_code\n",
       "572679      4096493             3.0  ... -87.707740         50\n",
       "572683      4096811             3.0  ... -87.710045         50\n",
       "572688      4097533             4.0  ... -87.711320         50\n",
       "572701      4098042             3.0  ... -87.705696         50\n",
       "572722    113956069             3.0  ... -87.711460         55\n",
       "\n",
       "[5 rows x 8 columns]"
      ]
     },
     "execution_count": 31,
     "metadata": {},
     "output_type": "execute_result"
    }
   ],
   "source": [
    "chicago_df.head()"
   ]
  },
  {
   "cell_type": "code",
   "execution_count": null,
   "metadata": {
    "application/vnd.databricks.v1+cell": {
     "cellMetadata": {
      "byteLimit": 2048000,
      "rowLimit": 10000
     },
     "inputWidgets": {},
     "nuid": "c085ee90-c429-4f1b-9e2e-3231aa3b3ad2",
     "showTitle": false,
     "title": ""
    }
   },
   "outputs": [],
   "source": [
    "# Create new columns for each property type\n",
    "#chicago_df['IS_CONDO'] = (chicago_df['property_type'] == 'CONDO').astype(int)\n",
    "#chicago_df['IS_SINGLE_FAMILY'] = (chicago_df['property_type'] == 'SINGLE_FAMILY').astype(int)\n",
    "#chicago_df['IS_MULTI_FAMILY'] = (chicago_df['property_type'] == 'MULTI_FAMILY').astype(int)\n",
    "#chicago_df['IS_TOWNHOUSE'] = (chicago_df['property_type'] == 'TOWNHOUSE').astype(int)\n",
    "\n",
    "# Drop the original 'property_type' column\n",
    "#chicago_df.drop('property_type', axis=1, inplace=True)"
   ]
  },
  {
   "cell_type": "code",
   "execution_count": null,
   "metadata": {
    "application/vnd.databricks.v1+cell": {
     "cellMetadata": {
      "byteLimit": 2048000,
      "rowLimit": 10000
     },
     "inputWidgets": {},
     "nuid": "eb45fbbe-adb3-460e-a574-ed89a50657f6",
     "showTitle": false,
     "title": ""
    }
   },
   "outputs": [],
   "source": [
    "## drop the old index (random number assigned to properties), and set property_id (assigned by zillow) as the index as it is a unique identifier.\n",
    "\n",
    "# reset the old index and drop it\n",
    "chicago_df.reset_index(drop=True, inplace=True)\n",
    "\n",
    "# set 'property_id' as the new index\n",
    "chicago_df.set_index('property_id', inplace=True)"
   ]
  },
  {
   "cell_type": "code",
   "execution_count": null,
   "metadata": {
    "application/vnd.databricks.v1+cell": {
     "cellMetadata": {
      "byteLimit": 2048000,
      "rowLimit": 10000
     },
     "inputWidgets": {},
     "nuid": "00f4addd-c2c2-4f92-8c98-48a47d52a892",
     "showTitle": false,
     "title": ""
    }
   },
   "outputs": [
    {
     "data": {
      "text/html": [
       "<div>\n",
       "<style scoped>\n",
       "    .dataframe tbody tr th:only-of-type {\n",
       "        vertical-align: middle;\n",
       "    }\n",
       "\n",
       "    .dataframe tbody tr th {\n",
       "        vertical-align: top;\n",
       "    }\n",
       "\n",
       "    .dataframe thead th {\n",
       "        text-align: right;\n",
       "    }\n",
       "</style>\n",
       "<table border=\"1\" class=\"dataframe\">\n",
       "  <thead>\n",
       "    <tr style=\"text-align: right;\">\n",
       "      <th></th>\n",
       "      <th>bedroom_number</th>\n",
       "      <th>bathroom_number</th>\n",
       "      <th>living_space</th>\n",
       "      <th>price</th>\n",
       "      <th>latitude</th>\n",
       "      <th>longitude</th>\n",
       "      <th>post_code</th>\n",
       "    </tr>\n",
       "    <tr>\n",
       "      <th>property_id</th>\n",
       "      <th></th>\n",
       "      <th></th>\n",
       "      <th></th>\n",
       "      <th></th>\n",
       "      <th></th>\n",
       "      <th></th>\n",
       "      <th></th>\n",
       "    </tr>\n",
       "  </thead>\n",
       "  <tbody>\n",
       "    <tr>\n",
       "      <th>4096493</th>\n",
       "      <td>3.0</td>\n",
       "      <td>2.0</td>\n",
       "      <td>1417.0</td>\n",
       "      <td>199900.0</td>\n",
       "      <td>41.690260</td>\n",
       "      <td>-87.707740</td>\n",
       "      <td>50</td>\n",
       "    </tr>\n",
       "    <tr>\n",
       "      <th>4096811</th>\n",
       "      <td>3.0</td>\n",
       "      <td>2.0</td>\n",
       "      <td>1300.0</td>\n",
       "      <td>315000.0</td>\n",
       "      <td>41.686848</td>\n",
       "      <td>-87.710045</td>\n",
       "      <td>50</td>\n",
       "    </tr>\n",
       "    <tr>\n",
       "      <th>4097533</th>\n",
       "      <td>4.0</td>\n",
       "      <td>2.0</td>\n",
       "      <td>1300.0</td>\n",
       "      <td>309900.0</td>\n",
       "      <td>41.682007</td>\n",
       "      <td>-87.711320</td>\n",
       "      <td>50</td>\n",
       "    </tr>\n",
       "    <tr>\n",
       "      <th>4098042</th>\n",
       "      <td>3.0</td>\n",
       "      <td>2.0</td>\n",
       "      <td>1098.0</td>\n",
       "      <td>349900.0</td>\n",
       "      <td>41.682095</td>\n",
       "      <td>-87.705696</td>\n",
       "      <td>50</td>\n",
       "    </tr>\n",
       "    <tr>\n",
       "      <th>113956069</th>\n",
       "      <td>3.0</td>\n",
       "      <td>2.0</td>\n",
       "      <td>1710.0</td>\n",
       "      <td>259900.0</td>\n",
       "      <td>41.671726</td>\n",
       "      <td>-87.711460</td>\n",
       "      <td>55</td>\n",
       "    </tr>\n",
       "    <tr>\n",
       "      <th>4096187</th>\n",
       "      <td>4.0</td>\n",
       "      <td>2.0</td>\n",
       "      <td>1522.0</td>\n",
       "      <td>365000.0</td>\n",
       "      <td>41.685120</td>\n",
       "      <td>-87.713660</td>\n",
       "      <td>50</td>\n",
       "    </tr>\n",
       "    <tr>\n",
       "      <th>4082885</th>\n",
       "      <td>2.0</td>\n",
       "      <td>1.0</td>\n",
       "      <td>4961.0</td>\n",
       "      <td>139900.0</td>\n",
       "      <td>41.692240</td>\n",
       "      <td>-87.720030</td>\n",
       "      <td>50</td>\n",
       "    </tr>\n",
       "    <tr>\n",
       "      <th>4097056</th>\n",
       "      <td>5.0</td>\n",
       "      <td>3.0</td>\n",
       "      <td>2742.0</td>\n",
       "      <td>539900.0</td>\n",
       "      <td>41.685005</td>\n",
       "      <td>-87.708750</td>\n",
       "      <td>50</td>\n",
       "    </tr>\n",
       "    <tr>\n",
       "      <th>4096618</th>\n",
       "      <td>4.0</td>\n",
       "      <td>4.0</td>\n",
       "      <td>2500.0</td>\n",
       "      <td>559900.0</td>\n",
       "      <td>41.690860</td>\n",
       "      <td>-87.704810</td>\n",
       "      <td>50</td>\n",
       "    </tr>\n",
       "    <tr>\n",
       "      <th>4096491</th>\n",
       "      <td>3.0</td>\n",
       "      <td>2.0</td>\n",
       "      <td>0.0</td>\n",
       "      <td>429900.0</td>\n",
       "      <td>41.690426</td>\n",
       "      <td>-87.707750</td>\n",
       "      <td>50</td>\n",
       "    </tr>\n",
       "    <tr>\n",
       "      <th>4096612</th>\n",
       "      <td>2.0</td>\n",
       "      <td>1.0</td>\n",
       "      <td>504.0</td>\n",
       "      <td>125000.0</td>\n",
       "      <td>41.689186</td>\n",
       "      <td>-87.705260</td>\n",
       "      <td>50</td>\n",
       "    </tr>\n",
       "    <tr>\n",
       "      <th>4096484</th>\n",
       "      <td>2.0</td>\n",
       "      <td>2.0</td>\n",
       "      <td>0.0</td>\n",
       "      <td>199900.0</td>\n",
       "      <td>41.689842</td>\n",
       "      <td>-87.708420</td>\n",
       "      <td>50</td>\n",
       "    </tr>\n",
       "    <tr>\n",
       "      <th>159159134</th>\n",
       "      <td>5.0</td>\n",
       "      <td>2.0</td>\n",
       "      <td>0.0</td>\n",
       "      <td>299900.0</td>\n",
       "      <td>41.681183</td>\n",
       "      <td>-87.706520</td>\n",
       "      <td>50</td>\n",
       "    </tr>\n",
       "    <tr>\n",
       "      <th>4082759</th>\n",
       "      <td>4.0</td>\n",
       "      <td>3.0</td>\n",
       "      <td>1600.0</td>\n",
       "      <td>299900.0</td>\n",
       "      <td>41.693740</td>\n",
       "      <td>-87.717550</td>\n",
       "      <td>50</td>\n",
       "    </tr>\n",
       "    <tr>\n",
       "      <th>4084046</th>\n",
       "      <td>3.0</td>\n",
       "      <td>1.0</td>\n",
       "      <td>1200.0</td>\n",
       "      <td>244000.0</td>\n",
       "      <td>41.692287</td>\n",
       "      <td>-87.707850</td>\n",
       "      <td>50</td>\n",
       "    </tr>\n",
       "    <tr>\n",
       "      <th>3629867</th>\n",
       "      <td>2.0</td>\n",
       "      <td>2.0</td>\n",
       "      <td>1071.0</td>\n",
       "      <td>399000.0</td>\n",
       "      <td>41.977676</td>\n",
       "      <td>-87.802100</td>\n",
       "      <td>51</td>\n",
       "    </tr>\n",
       "    <tr>\n",
       "      <th>3583929</th>\n",
       "      <td>3.0</td>\n",
       "      <td>2.0</td>\n",
       "      <td>1181.0</td>\n",
       "      <td>425000.0</td>\n",
       "      <td>41.977154</td>\n",
       "      <td>-87.821480</td>\n",
       "      <td>51</td>\n",
       "    </tr>\n",
       "    <tr>\n",
       "      <th>3632527</th>\n",
       "      <td>5.0</td>\n",
       "      <td>4.0</td>\n",
       "      <td>3000.0</td>\n",
       "      <td>799000.0</td>\n",
       "      <td>41.969063</td>\n",
       "      <td>-87.793200</td>\n",
       "      <td>51</td>\n",
       "    </tr>\n",
       "    <tr>\n",
       "      <th>3629495</th>\n",
       "      <td>4.0</td>\n",
       "      <td>2.0</td>\n",
       "      <td>1570.0</td>\n",
       "      <td>449000.0</td>\n",
       "      <td>41.979810</td>\n",
       "      <td>-87.798460</td>\n",
       "      <td>51</td>\n",
       "    </tr>\n",
       "    <tr>\n",
       "      <th>3590008</th>\n",
       "      <td>3.0</td>\n",
       "      <td>3.0</td>\n",
       "      <td>1200.0</td>\n",
       "      <td>499000.0</td>\n",
       "      <td>41.965755</td>\n",
       "      <td>-87.841415</td>\n",
       "      <td>51</td>\n",
       "    </tr>\n",
       "    <tr>\n",
       "      <th>3629661</th>\n",
       "      <td>3.0</td>\n",
       "      <td>2.0</td>\n",
       "      <td>0.0</td>\n",
       "      <td>369900.0</td>\n",
       "      <td>41.978107</td>\n",
       "      <td>-87.805670</td>\n",
       "      <td>51</td>\n",
       "    </tr>\n",
       "    <tr>\n",
       "      <th>3630973</th>\n",
       "      <td>3.0</td>\n",
       "      <td>2.0</td>\n",
       "      <td>1760.0</td>\n",
       "      <td>379900.0</td>\n",
       "      <td>41.975887</td>\n",
       "      <td>-87.790960</td>\n",
       "      <td>51</td>\n",
       "    </tr>\n",
       "    <tr>\n",
       "      <th>2065676664</th>\n",
       "      <td>4.0</td>\n",
       "      <td>3.0</td>\n",
       "      <td>1644.0</td>\n",
       "      <td>399000.0</td>\n",
       "      <td>41.977722</td>\n",
       "      <td>-87.799090</td>\n",
       "      <td>51</td>\n",
       "    </tr>\n",
       "    <tr>\n",
       "      <th>3632790</th>\n",
       "      <td>3.0</td>\n",
       "      <td>2.0</td>\n",
       "      <td>1300.0</td>\n",
       "      <td>349900.0</td>\n",
       "      <td>41.970990</td>\n",
       "      <td>-87.791240</td>\n",
       "      <td>51</td>\n",
       "    </tr>\n",
       "    <tr>\n",
       "      <th>3630259</th>\n",
       "      <td>2.0</td>\n",
       "      <td>2.0</td>\n",
       "      <td>1500.0</td>\n",
       "      <td>339900.0</td>\n",
       "      <td>41.981670</td>\n",
       "      <td>-87.791740</td>\n",
       "      <td>51</td>\n",
       "    </tr>\n",
       "    <tr>\n",
       "      <th>3689763</th>\n",
       "      <td>3.0</td>\n",
       "      <td>2.0</td>\n",
       "      <td>1890.0</td>\n",
       "      <td>525000.0</td>\n",
       "      <td>41.993282</td>\n",
       "      <td>-87.666830</td>\n",
       "      <td>54</td>\n",
       "    </tr>\n",
       "    <tr>\n",
       "      <th>3583455</th>\n",
       "      <td>4.0</td>\n",
       "      <td>2.0</td>\n",
       "      <td>2000.0</td>\n",
       "      <td>424900.0</td>\n",
       "      <td>41.973747</td>\n",
       "      <td>-87.827110</td>\n",
       "      <td>51</td>\n",
       "    </tr>\n",
       "    <tr>\n",
       "      <th>3629368</th>\n",
       "      <td>3.0</td>\n",
       "      <td>3.0</td>\n",
       "      <td>1940.0</td>\n",
       "      <td>400000.0</td>\n",
       "      <td>41.981760</td>\n",
       "      <td>-87.801990</td>\n",
       "      <td>51</td>\n",
       "    </tr>\n",
       "    <tr>\n",
       "      <th>3629417</th>\n",
       "      <td>3.0</td>\n",
       "      <td>2.0</td>\n",
       "      <td>1600.0</td>\n",
       "      <td>459900.0</td>\n",
       "      <td>41.981020</td>\n",
       "      <td>-87.800290</td>\n",
       "      <td>51</td>\n",
       "    </tr>\n",
       "    <tr>\n",
       "      <th>3632755</th>\n",
       "      <td>4.0</td>\n",
       "      <td>5.0</td>\n",
       "      <td>2483.0</td>\n",
       "      <td>599900.0</td>\n",
       "      <td>41.971638</td>\n",
       "      <td>-87.792435</td>\n",
       "      <td>51</td>\n",
       "    </tr>\n",
       "    <tr>\n",
       "      <th>3589380</th>\n",
       "      <td>5.0</td>\n",
       "      <td>2.0</td>\n",
       "      <td>2002.0</td>\n",
       "      <td>519999.0</td>\n",
       "      <td>41.960835</td>\n",
       "      <td>-87.838220</td>\n",
       "      <td>51</td>\n",
       "    </tr>\n",
       "    <tr>\n",
       "      <th>3632254</th>\n",
       "      <td>5.0</td>\n",
       "      <td>4.0</td>\n",
       "      <td>3600.0</td>\n",
       "      <td>849900.0</td>\n",
       "      <td>41.973263</td>\n",
       "      <td>-87.793625</td>\n",
       "      <td>51</td>\n",
       "    </tr>\n",
       "    <tr>\n",
       "      <th>3582726</th>\n",
       "      <td>3.0</td>\n",
       "      <td>2.0</td>\n",
       "      <td>1353.0</td>\n",
       "      <td>419900.0</td>\n",
       "      <td>41.971867</td>\n",
       "      <td>-87.839550</td>\n",
       "      <td>51</td>\n",
       "    </tr>\n",
       "    <tr>\n",
       "      <th>3629818</th>\n",
       "      <td>3.0</td>\n",
       "      <td>2.0</td>\n",
       "      <td>1248.0</td>\n",
       "      <td>329000.0</td>\n",
       "      <td>41.977350</td>\n",
       "      <td>-87.803110</td>\n",
       "      <td>51</td>\n",
       "    </tr>\n",
       "    <tr>\n",
       "      <th>2064296472</th>\n",
       "      <td>4.0</td>\n",
       "      <td>2.0</td>\n",
       "      <td>1587.0</td>\n",
       "      <td>500000.0</td>\n",
       "      <td>41.979084</td>\n",
       "      <td>-87.824470</td>\n",
       "      <td>51</td>\n",
       "    </tr>\n",
       "    <tr>\n",
       "      <th>3631183</th>\n",
       "      <td>4.0</td>\n",
       "      <td>2.0</td>\n",
       "      <td>1650.0</td>\n",
       "      <td>409900.0</td>\n",
       "      <td>41.973980</td>\n",
       "      <td>-87.797950</td>\n",
       "      <td>51</td>\n",
       "    </tr>\n",
       "    <tr>\n",
       "      <th>3632374</th>\n",
       "      <td>3.0</td>\n",
       "      <td>2.0</td>\n",
       "      <td>1400.0</td>\n",
       "      <td>334900.0</td>\n",
       "      <td>41.972157</td>\n",
       "      <td>-87.790016</td>\n",
       "      <td>51</td>\n",
       "    </tr>\n",
       "    <tr>\n",
       "      <th>3630170</th>\n",
       "      <td>3.0</td>\n",
       "      <td>3.0</td>\n",
       "      <td>2350.0</td>\n",
       "      <td>375000.0</td>\n",
       "      <td>41.976080</td>\n",
       "      <td>-87.798416</td>\n",
       "      <td>51</td>\n",
       "    </tr>\n",
       "    <tr>\n",
       "      <th>3631256</th>\n",
       "      <td>4.0</td>\n",
       "      <td>2.0</td>\n",
       "      <td>1100.0</td>\n",
       "      <td>425000.0</td>\n",
       "      <td>41.972477</td>\n",
       "      <td>-87.803950</td>\n",
       "      <td>51</td>\n",
       "    </tr>\n",
       "    <tr>\n",
       "      <th>3696451</th>\n",
       "      <td>3.0</td>\n",
       "      <td>2.0</td>\n",
       "      <td>1700.0</td>\n",
       "      <td>625000.0</td>\n",
       "      <td>41.992060</td>\n",
       "      <td>-87.674140</td>\n",
       "      <td>54</td>\n",
       "    </tr>\n",
       "    <tr>\n",
       "      <th>3632169</th>\n",
       "      <td>5.0</td>\n",
       "      <td>4.0</td>\n",
       "      <td>2500.0</td>\n",
       "      <td>799000.0</td>\n",
       "      <td>41.974247</td>\n",
       "      <td>-87.788765</td>\n",
       "      <td>51</td>\n",
       "    </tr>\n",
       "    <tr>\n",
       "      <th>3589233</th>\n",
       "      <td>3.0</td>\n",
       "      <td>2.0</td>\n",
       "      <td>1429.0</td>\n",
       "      <td>489900.0</td>\n",
       "      <td>41.966286</td>\n",
       "      <td>-87.842020</td>\n",
       "      <td>51</td>\n",
       "    </tr>\n",
       "    <tr>\n",
       "      <th>3584709</th>\n",
       "      <td>5.0</td>\n",
       "      <td>4.0</td>\n",
       "      <td>2366.0</td>\n",
       "      <td>649900.0</td>\n",
       "      <td>41.977844</td>\n",
       "      <td>-87.814060</td>\n",
       "      <td>51</td>\n",
       "    </tr>\n",
       "    <tr>\n",
       "      <th>3629866</th>\n",
       "      <td>4.0</td>\n",
       "      <td>2.0</td>\n",
       "      <td>0.0</td>\n",
       "      <td>429900.0</td>\n",
       "      <td>41.977707</td>\n",
       "      <td>-87.802216</td>\n",
       "      <td>51</td>\n",
       "    </tr>\n",
       "    <tr>\n",
       "      <th>3583765</th>\n",
       "      <td>3.0</td>\n",
       "      <td>3.0</td>\n",
       "      <td>1439.0</td>\n",
       "      <td>389900.0</td>\n",
       "      <td>41.979347</td>\n",
       "      <td>-87.817790</td>\n",
       "      <td>51</td>\n",
       "    </tr>\n",
       "    <tr>\n",
       "      <th>3629472</th>\n",
       "      <td>2.0</td>\n",
       "      <td>2.0</td>\n",
       "      <td>1225.0</td>\n",
       "      <td>369900.0</td>\n",
       "      <td>41.980580</td>\n",
       "      <td>-87.799130</td>\n",
       "      <td>51</td>\n",
       "    </tr>\n",
       "    <tr>\n",
       "      <th>3629500</th>\n",
       "      <td>5.0</td>\n",
       "      <td>4.0</td>\n",
       "      <td>3167.0</td>\n",
       "      <td>629900.0</td>\n",
       "      <td>41.980473</td>\n",
       "      <td>-87.797940</td>\n",
       "      <td>51</td>\n",
       "    </tr>\n",
       "    <tr>\n",
       "      <th>3589242</th>\n",
       "      <td>3.0</td>\n",
       "      <td>2.0</td>\n",
       "      <td>2230.0</td>\n",
       "      <td>447500.0</td>\n",
       "      <td>41.964966</td>\n",
       "      <td>-87.840400</td>\n",
       "      <td>51</td>\n",
       "    </tr>\n",
       "    <tr>\n",
       "      <th>3631508</th>\n",
       "      <td>6.0</td>\n",
       "      <td>4.0</td>\n",
       "      <td>2486.0</td>\n",
       "      <td>594900.0</td>\n",
       "      <td>41.969498</td>\n",
       "      <td>-87.798546</td>\n",
       "      <td>51</td>\n",
       "    </tr>\n",
       "    <tr>\n",
       "      <th>3584327</th>\n",
       "      <td>4.0</td>\n",
       "      <td>3.0</td>\n",
       "      <td>2000.0</td>\n",
       "      <td>525555.0</td>\n",
       "      <td>41.977955</td>\n",
       "      <td>-87.824540</td>\n",
       "      <td>51</td>\n",
       "    </tr>\n",
       "  </tbody>\n",
       "</table>\n",
       "</div>"
      ],
      "text/plain": [
       "             bedroom_number  bathroom_number  ...  longitude  post_code\n",
       "property_id                                   ...                      \n",
       "4096493                 3.0              2.0  ... -87.707740         50\n",
       "4096811                 3.0              2.0  ... -87.710045         50\n",
       "4097533                 4.0              2.0  ... -87.711320         50\n",
       "4098042                 3.0              2.0  ... -87.705696         50\n",
       "113956069               3.0              2.0  ... -87.711460         55\n",
       "4096187                 4.0              2.0  ... -87.713660         50\n",
       "4082885                 2.0              1.0  ... -87.720030         50\n",
       "4097056                 5.0              3.0  ... -87.708750         50\n",
       "4096618                 4.0              4.0  ... -87.704810         50\n",
       "4096491                 3.0              2.0  ... -87.707750         50\n",
       "4096612                 2.0              1.0  ... -87.705260         50\n",
       "4096484                 2.0              2.0  ... -87.708420         50\n",
       "159159134               5.0              2.0  ... -87.706520         50\n",
       "4082759                 4.0              3.0  ... -87.717550         50\n",
       "4084046                 3.0              1.0  ... -87.707850         50\n",
       "3629867                 2.0              2.0  ... -87.802100         51\n",
       "3583929                 3.0              2.0  ... -87.821480         51\n",
       "3632527                 5.0              4.0  ... -87.793200         51\n",
       "3629495                 4.0              2.0  ... -87.798460         51\n",
       "3590008                 3.0              3.0  ... -87.841415         51\n",
       "3629661                 3.0              2.0  ... -87.805670         51\n",
       "3630973                 3.0              2.0  ... -87.790960         51\n",
       "2065676664              4.0              3.0  ... -87.799090         51\n",
       "3632790                 3.0              2.0  ... -87.791240         51\n",
       "3630259                 2.0              2.0  ... -87.791740         51\n",
       "3689763                 3.0              2.0  ... -87.666830         54\n",
       "3583455                 4.0              2.0  ... -87.827110         51\n",
       "3629368                 3.0              3.0  ... -87.801990         51\n",
       "3629417                 3.0              2.0  ... -87.800290         51\n",
       "3632755                 4.0              5.0  ... -87.792435         51\n",
       "3589380                 5.0              2.0  ... -87.838220         51\n",
       "3632254                 5.0              4.0  ... -87.793625         51\n",
       "3582726                 3.0              2.0  ... -87.839550         51\n",
       "3629818                 3.0              2.0  ... -87.803110         51\n",
       "2064296472              4.0              2.0  ... -87.824470         51\n",
       "3631183                 4.0              2.0  ... -87.797950         51\n",
       "3632374                 3.0              2.0  ... -87.790016         51\n",
       "3630170                 3.0              3.0  ... -87.798416         51\n",
       "3631256                 4.0              2.0  ... -87.803950         51\n",
       "3696451                 3.0              2.0  ... -87.674140         54\n",
       "3632169                 5.0              4.0  ... -87.788765         51\n",
       "3589233                 3.0              2.0  ... -87.842020         51\n",
       "3584709                 5.0              4.0  ... -87.814060         51\n",
       "3629866                 4.0              2.0  ... -87.802216         51\n",
       "3583765                 3.0              3.0  ... -87.817790         51\n",
       "3629472                 2.0              2.0  ... -87.799130         51\n",
       "3629500                 5.0              4.0  ... -87.797940         51\n",
       "3589242                 3.0              2.0  ... -87.840400         51\n",
       "3631508                 6.0              4.0  ... -87.798546         51\n",
       "3584327                 4.0              3.0  ... -87.824540         51\n",
       "\n",
       "[50 rows x 7 columns]"
      ]
     },
     "execution_count": 34,
     "metadata": {},
     "output_type": "execute_result"
    }
   ],
   "source": [
    "chicago_df.head(50)"
   ]
  },
  {
   "cell_type": "markdown",
   "metadata": {
    "application/vnd.databricks.v1+cell": {
     "cellMetadata": {},
     "inputWidgets": {},
     "nuid": "7663e4b9-8cdc-4d91-a54e-0eca2087784c",
     "showTitle": false,
     "title": ""
    }
   },
   "source": [
    "# Data Visualization after clean up "
   ]
  },
  {
   "cell_type": "code",
   "execution_count": null,
   "metadata": {
    "application/vnd.databricks.v1+cell": {
     "cellMetadata": {
      "byteLimit": 2048000,
      "rowLimit": 10000
     },
     "inputWidgets": {},
     "nuid": "2285b171-f36c-4b1e-88b4-c2bebf4ca9e8",
     "showTitle": false,
     "title": ""
    }
   },
   "outputs": [
    {
     "data": {
      "image/png": "[encoded data removed]",
      "text/plain": [
       "<Figure size 1000x1000 with 9 Axes>"
      ]
     },
     "metadata": {},
     "output_type": "display_data"
    }
   ],
   "source": [
    "chicago_df.hist(figsize=(10,10))\n",
    "plt.tight_layout()\n",
    "plt.show()"
   ]
  },
  {
   "cell_type": "code",
   "execution_count": null,
   "metadata": {
    "application/vnd.databricks.v1+cell": {
     "cellMetadata": {
      "byteLimit": 2048000,
      "rowLimit": 10000
     },
     "inputWidgets": {},
     "nuid": "c53e3b8c-9ff7-490c-a88c-7872a929a058",
     "showTitle": false,
     "title": ""
    }
   },
   "outputs": [
    {
     "name": "stdout",
     "output_type": "stream",
     "text": [
      "Minimum Price: 0.0\n",
      "Maximum Price: 18750000.0\n",
      "Mean Price: 530849.8387191539\n",
      "Median Price: 299900.0\n"
     ]
    }
   ],
   "source": [
    "min_price = chicago_df['price'].min()\n",
    "max_price = chicago_df['price'].max()\n",
    "mean_price = chicago_df['price'].mean()\n",
    "median_price = chicago_df['price'].median()\n",
    "\n",
    "print(f\"Minimum Price: {min_price}\")\n",
    "print(f\"Maximum Price: {max_price}\")\n",
    "print(f\"Mean Price: {mean_price}\")\n",
    "print(f\"Median Price: {median_price}\")"
   ]
  },
  {
   "cell_type": "code",
   "execution_count": null,
   "metadata": {
    "application/vnd.databricks.v1+cell": {
     "cellMetadata": {
      "byteLimit": 2048000,
      "rowLimit": 10000
     },
     "inputWidgets": {},
     "nuid": "bcc6eaaf-1eaa-410b-952b-dc9c2d4d8ebd",
     "showTitle": false,
     "title": ""
    }
   },
   "outputs": [
    {
     "name": "stdout",
     "output_type": "stream",
     "text": [
      "Number of times price equals 0: 8\n"
     ]
    }
   ],
   "source": [
    "zero_price_count = (chicago_df['price'] == 0).sum()\n",
    "\n",
    "print(f\"Number of times price equals 0: {zero_price_count}\")"
   ]
  },
  {
   "cell_type": "markdown",
   "metadata": {
    "application/vnd.databricks.v1+cell": {
     "cellMetadata": {},
     "inputWidgets": {},
     "nuid": "2e4a2a83-7b52-4341-9287-7e741d5057e1",
     "showTitle": false,
     "title": ""
    }
   },
   "source": [
    "# Removing Outliers"
   ]
  },
  {
   "cell_type": "code",
   "execution_count": null,
   "metadata": {
    "application/vnd.databricks.v1+cell": {
     "cellMetadata": {
      "byteLimit": 2048000,
      "rowLimit": 10000
     },
     "inputWidgets": {},
     "nuid": "e822e52d-5d6b-4c11-b0e6-2120e3412e13",
     "showTitle": false,
     "title": ""
    }
   },
   "outputs": [],
   "source": [
    "chicago_df = chicago_df[(chicago_df['price'] >= 200000) & (chicago_df['price'] <= 2000000) & (chicago_df['living_space'] > 600)]"
   ]
  },
  {
   "cell_type": "code",
   "execution_count": null,
   "metadata": {
    "application/vnd.databricks.v1+cell": {
     "cellMetadata": {
      "byteLimit": 2048000,
      "rowLimit": 10000
     },
     "inputWidgets": {},
     "nuid": "1b8cff82-58aa-48af-9c73-698234c957ba",
     "showTitle": false,
     "title": ""
    }
   },
   "outputs": [
    {
     "name": "stdout",
     "output_type": "stream",
     "text": [
      "Minimum Price: 200000.0\n",
      "Maximum Price: 2000000.0\n",
      "Mean Price: 484185.9812030075\n",
      "Median Price: 349900.0\n"
     ]
    }
   ],
   "source": [
    "min_price = chicago_df['price'].min()\n",
    "max_price = chicago_df['price'].max()\n",
    "mean_price = chicago_df['price'].mean()\n",
    "median_price = chicago_df['price'].median()\n",
    "\n",
    "print(f\"Minimum Price: {min_price}\")\n",
    "print(f\"Maximum Price: {max_price}\")\n",
    "print(f\"Mean Price: {mean_price}\")\n",
    "print(f\"Median Price: {median_price}\")"
   ]
  },
  {
   "cell_type": "markdown",
   "metadata": {
    "application/vnd.databricks.v1+cell": {
     "cellMetadata": {
      "byteLimit": 2048000,
      "rowLimit": 10000
     },
     "inputWidgets": {},
     "nuid": "311a323c-4090-43df-ba00-54b6535a1a8d",
     "showTitle": false,
     "title": ""
    }
   },
   "source": [
    "# Model Training"
   ]
  },
  {
   "cell_type": "code",
   "execution_count": null,
   "metadata": {
    "application/vnd.databricks.v1+cell": {
     "cellMetadata": {
      "byteLimit": 2048000,
      "rowLimit": 10000
     },
     "inputWidgets": {},
     "nuid": "1f1c6112-f3a2-45c6-852b-1ba4fd33d97a",
     "showTitle": false,
     "title": ""
    }
   },
   "outputs": [
    {
     "name": "stderr",
     "output_type": "stream",
     "text": [
      "The method get_image_uri has been renamed in sagemaker>=2.\n",
      "See: https://sagemaker.readthedocs.io/en/stable/v2.html for details.\n"
     ]
    },
    {
     "name": "stdout",
     "output_type": "stream",
     "text": [
      "sagemaker.config INFO - Not applying SDK defaults from location: /etc/xdg/sagemaker/config.yaml\n",
      "sagemaker.config INFO - Not applying SDK defaults from location: /root/.config/sagemaker/config.yaml\n"
     ]
    },
    {
     "name": "stderr",
     "output_type": "stream",
     "text": [
      "train_instance_count has been renamed in sagemaker>=2.\n",
      "See: https://sagemaker.readthedocs.io/en/stable/v2.html for details.\n",
      "train_instance_type has been renamed in sagemaker>=2.\n",
      "See: https://sagemaker.readthedocs.io/en/stable/v2.html for details.\n",
      "No finished training job found associated with this estimator. Please make sure this estimator is only used for building workflow config\n",
      "No finished training job found associated with this estimator. Please make sure this estimator is only used for building workflow config\n"
     ]
    },
    {
     "name": "stdout",
     "output_type": "stream",
     "text": [
      "....................................................................!\n",
      "sagemaker.config INFO - Not applying SDK defaults from location: /etc/xdg/sagemaker/config.yaml\n",
      "sagemaker.config INFO - Not applying SDK defaults from location: /root/.config/sagemaker/config.yaml\n",
      "Best hyperparameters:\n",
      "_tuning_objective_metric: validation:rmse\n",
      "alpha: 5.0\n",
      "colsample_bylevel: 0.9287948794171368\n",
      "colsample_bytree: 0.6827796368136152\n",
      "early_stopping_rounds: 30\n",
      "eta: 0.1224058576480435\n",
      "gamma: 8.775878897977877\n",
      "lambda: 3.4335079321447233\n",
      "max_depth: 8\n",
      "min_child_weight: 20\n",
      "num_round: 409\n",
      "objective: reg:squarederror\n",
      "subsample: 0.792745184493833\n",
      "verbosity: 1\n",
      "sagemaker.config INFO - Not applying SDK defaults from location: /etc/xdg/sagemaker/config.yaml\n",
      "sagemaker.config INFO - Not applying SDK defaults from location: /root/.config/sagemaker/config.yaml\n"
     ]
    },
    {
     "data": {
      "application/vnd.jupyter.widget-view+json": {
       "model_id": "a45c6eaf5d294598994a6cc7c16d3173",
       "version_major": 2,
       "version_minor": 0
      },
      "text/plain": [
       "Uploading artifacts:   0%|          | 0/5 [00:00<?, ?it/s]"
      ]
     },
     "metadata": {},
     "output_type": "display_data"
    },
    {
     "name": "stdout",
     "output_type": "stream",
     "text": [
      "\n",
      "RMSE of XGBoost: 281.5219518616621\n",
      "RMSE of Random Forest: 83179.02330289513\n",
      "\n",
      "The XGBoost model has a lower RMSE.\n",
      "Best model: <sagemaker.estimator.Estimator object at 0x7f384c33a8f0>\n",
      "Best RMSE: 281.5219518616621\n"
     ]
    }
   ],
   "source": [
    "import pandas as pd\n",
    "import boto3\n",
    "import sagemaker\n",
    "from sklearn.model_selection import train_test_split\n",
    "from sklearn.preprocessing import StandardScaler\n",
    "from sagemaker.analytics import TrainingJobAnalytics\n",
    "from sagemaker import get_execution_role\n",
    "from sagemaker.inputs import TrainingInput\n",
    "from sagemaker.amazon.amazon_estimator import get_image_uri\n",
    "from sagemaker.tuner import IntegerParameter, ContinuousParameter, HyperparameterTuner, CategoricalParameter\n",
    "from sklearn.ensemble import RandomForestRegressor\n",
    "from sklearn.metrics import mean_squared_error\n",
    "import numpy as np\n",
    "\n",
    "\n",
    "chicago_df = chicago_df.dropna()\n",
    "\n",
    "\n",
    "# Feature Engineering and Outlier Handling\n",
    "chicago_df['bath_bed_ratio'] = chicago_df['bathroom_number'] / chicago_df['bedroom_number']\n",
    "Q1 = chicago_df.quantile(0.25)\n",
    "Q3 = chicago_df.quantile(0.75)\n",
    "IQR = Q3 - Q1\n",
    "chicago_df = chicago_df[~((chicago_df < (Q1 - 1.5 * IQR)) |(chicago_df > (Q3 + 1.5 * IQR))).any(axis=1)]\n",
    "\n",
    "chicago_df = chicago_df.dropna()\n",
    "\n",
    "\n",
    "# Split data\n",
    "X = chicago_df.drop('price', axis=1) \n",
    "y = chicago_df['price']\n",
    "X_train, X_valid, y_train, y_valid = train_test_split(X, y, test_size=0.2, random_state=42)\n",
    "\n",
    "# Data Normalization\n",
    "scaler = StandardScaler()\n",
    "X_train = pd.DataFrame(scaler.fit_transform(X_train), columns = X_train.columns)\n",
    "X_valid = pd.DataFrame(scaler.transform(X_valid), columns = X_valid.columns)\n",
    "\n",
    "# Reset indices\n",
    "y_train = y_train.reset_index(drop=True)\n",
    "X_train = X_train.reset_index(drop=True)\n",
    "y_valid = y_valid.reset_index(drop=True)\n",
    "X_valid = X_valid.reset_index(drop=True)\n",
    "\n",
    "# Save the train and validation data to CSV files\n",
    "pd.concat([y_train, X_train], axis=1).to_csv(\"train.csv\", index=False, header=False)\n",
    "pd.concat([y_valid, X_valid], axis=1).to_csv(\"validation.csv\", index=False, header=False)\n",
    "\n",
    "# Upload the train and validation data to S3\n",
    "s3 = boto3.resource('s3')\n",
    "s3.meta.client.upload_file('train.csv', '<Put your bucket name>', 'train/train.csv')\n",
    "s3.meta.client.upload_file('validation.csv', '<Put your bucket name>', 'validation/validation.csv')\n",
    "\n",
    "# Create a SageMaker Estimator for the XGBoost algorithm\n",
    "\n",
    "container = get_image_uri(boto3.Session().region_name, 'xgboost', '1.7-1')\n",
    "xgb = sagemaker.estimator.Estimator(container, role, train_instance_count=1, train_instance_type='ml.m4.xlarge', output_path='s3://<Put your bucket name>/output', sagemaker_session=sagemaker.Session())\n",
    "\n",
    "# Define the hyperparameter ranges\n",
    "hyperparameter_ranges = {\n",
    "    'max_depth': IntegerParameter(1,30),\n",
    "    'eta': ContinuousParameter(0.01, 0.5),\n",
    "    'min_child_weight': IntegerParameter(1, 20),\n",
    "    'subsample': ContinuousParameter(0.1, 0.9),\n",
    "    'gamma': ContinuousParameter(0, 20),\n",
    "    'colsample_bytree': ContinuousParameter(0.1, 1),\n",
    "    'colsample_bylevel': ContinuousParameter(0.1, 1),\n",
    "    'lambda': ContinuousParameter(0, 5),\n",
    "    'alpha': ContinuousParameter(0, 5),\n",
    "    'num_round': IntegerParameter(10, 500)\n",
    "}\n",
    "\n",
    "# Set the hyperparameters for the XGBoost algorithm\n",
    "xgb.set_hyperparameters(objective='reg:squarederror', early_stopping_rounds=30, num_round=300, verbosity=1)\n",
    "\n",
    "# Define the objective metric\n",
    "objective_metric_name = 'validation:rmse'\n",
    "objective_type = 'Minimize'\n",
    "\n",
    "# Create the hyperparameter tuner\n",
    "tuner = HyperparameterTuner(xgb, objective_metric_name, hyperparameter_ranges, max_jobs=9, max_parallel_jobs=3, objective_type=objective_type)\n",
    "\n",
    "# Prepare the input channels\n",
    "s3_input_train = TrainingInput(s3_data='s3://<Put your bucket name>/train/', content_type='csv')\n",
    "s3_input_validation = TrainingInput(s3_data='s3://<Put your bucket name>/validation/', content_type='csv')\n",
    "\n",
    "# Start the hyperparameter tuning job\n",
    "tuner.fit({'train': s3_input_train, 'validation': s3_input_validation})\n",
    "\n",
    "# Get the information about the best training job\n",
    "best_training_job_info = tuner.describe()\n",
    "best_training_job_name = best_training_job_info['BestTrainingJob']['TrainingJobName']\n",
    "\n",
    "# Get the information about the best training job using the SageMaker client\n",
    "sagemaker_session = sagemaker.Session()\n",
    "best_training_job_info = sagemaker_session.describe_training_job(best_training_job_name)\n",
    "\n",
    "# Extract the chosen hyperparameters\n",
    "best_hyperparameters = best_training_job_info['HyperParameters']\n",
    "\n",
    "# Display the best hyperparameters\n",
    "print(\"Best hyperparameters:\")\n",
    "for key, value in best_hyperparameters.items():\n",
    "    print(f\"{key}: {value}\")\n",
    "\n",
    "# Fetch the RMSE data for the best training job\n",
    "metric_name = 'validation:rmse'\n",
    "metrics_dataframe = TrainingJobAnalytics(training_job_name=best_training_job_name, metric_names=[metric_name]).dataframe()\n",
    "\n",
    "\n",
    "# Train a Random Forest Regressor\n",
    "rf = RandomForestRegressor(n_estimators=100, random_state=42)\n",
    "rf.fit(X_train, y_train)\n",
    "\n",
    "# Predict on the validation data\n",
    "y_pred_rf = rf.predict(X_valid)\n",
    "\n",
    "# Calculate the RMSE of the Random Forest Regressor\n",
    "rmse_rf = np.sqrt(mean_squared_error(y_valid, y_pred_rf))\n",
    "\n",
    "# Compare the RMSE of the XGBoost and Random Forest models\n",
    "rmse_xgb = np.sqrt(metrics_dataframe['value'].min())\n",
    "print(\"\\nRMSE of XGBoost:\", rmse_xgb)\n",
    "print(\"RMSE of Random Forest:\", rmse_rf)\n",
    "\n",
    "# Choose the model with the lower RMSE\n",
    "if rmse_rf < rmse_xgb:\n",
    "    print(\"\\nThe Random Forest model has a lower RMSE.\")\n",
    "    best_model = rf\n",
    "    best_rmse = rmse_rf\n",
    "else:\n",
    "    print(\"\\nThe XGBoost model has a lower RMSE.\")\n",
    "    best_model = xgb\n",
    "    best_rmse = rmse_xgb\n",
    "\n",
    "print(\"Best model:\", best_model)\n",
    "print(\"Best RMSE:\", best_rmse)"
   ]
  },
  {
   "cell_type": "markdown",
   "metadata": {
    "application/vnd.databricks.v1+cell": {
     "cellMetadata": {},
     "inputWidgets": {},
     "nuid": "27d8fcfc-8d8c-4732-9b81-abc4e963771c",
     "showTitle": false,
     "title": ""
    }
   },
   "source": [
    "# Viewing the data"
   ]
  },
  {
   "cell_type": "code",
   "execution_count": null,
   "metadata": {
    "application/vnd.databricks.v1+cell": {
     "cellMetadata": {
      "byteLimit": 2048000,
      "rowLimit": 10000
     },
     "inputWidgets": {},
     "nuid": "ece8e715-4fca-493d-a6ec-8f83439d2413",
     "showTitle": false,
     "title": ""
    }
   },
   "outputs": [
    {
     "data": {
      "text/html": [
       "<div>\n",
       "<style scoped>\n",
       "    .dataframe tbody tr th:only-of-type {\n",
       "        vertical-align: middle;\n",
       "    }\n",
       "\n",
       "    .dataframe tbody tr th {\n",
       "        vertical-align: top;\n",
       "    }\n",
       "\n",
       "    .dataframe thead th {\n",
       "        text-align: right;\n",
       "    }\n",
       "</style>\n",
       "<table border=\"1\" class=\"dataframe\">\n",
       "  <thead>\n",
       "    <tr style=\"text-align: right;\">\n",
       "      <th></th>\n",
       "      <th>bedroom_number</th>\n",
       "      <th>bathroom_number</th>\n",
       "      <th>living_space</th>\n",
       "      <th>price</th>\n",
       "      <th>latitude</th>\n",
       "      <th>longitude</th>\n",
       "      <th>post_code</th>\n",
       "      <th>bath_bed_ratio</th>\n",
       "    </tr>\n",
       "    <tr>\n",
       "      <th>property_id</th>\n",
       "      <th></th>\n",
       "      <th></th>\n",
       "      <th></th>\n",
       "      <th></th>\n",
       "      <th></th>\n",
       "      <th></th>\n",
       "      <th></th>\n",
       "      <th></th>\n",
       "    </tr>\n",
       "  </thead>\n",
       "  <tbody>\n",
       "    <tr>\n",
       "      <th>4096811</th>\n",
       "      <td>3.0</td>\n",
       "      <td>2.0</td>\n",
       "      <td>1300.0</td>\n",
       "      <td>315000.0</td>\n",
       "      <td>41.686848</td>\n",
       "      <td>-87.710045</td>\n",
       "      <td>50</td>\n",
       "      <td>0.666667</td>\n",
       "    </tr>\n",
       "    <tr>\n",
       "      <th>4097533</th>\n",
       "      <td>4.0</td>\n",
       "      <td>2.0</td>\n",
       "      <td>1300.0</td>\n",
       "      <td>309900.0</td>\n",
       "      <td>41.682007</td>\n",
       "      <td>-87.711320</td>\n",
       "      <td>50</td>\n",
       "      <td>0.500000</td>\n",
       "    </tr>\n",
       "    <tr>\n",
       "      <th>4098042</th>\n",
       "      <td>3.0</td>\n",
       "      <td>2.0</td>\n",
       "      <td>1098.0</td>\n",
       "      <td>349900.0</td>\n",
       "      <td>41.682095</td>\n",
       "      <td>-87.705696</td>\n",
       "      <td>50</td>\n",
       "      <td>0.666667</td>\n",
       "    </tr>\n",
       "    <tr>\n",
       "      <th>113956069</th>\n",
       "      <td>3.0</td>\n",
       "      <td>2.0</td>\n",
       "      <td>1710.0</td>\n",
       "      <td>259900.0</td>\n",
       "      <td>41.671726</td>\n",
       "      <td>-87.711460</td>\n",
       "      <td>55</td>\n",
       "      <td>0.666667</td>\n",
       "    </tr>\n",
       "    <tr>\n",
       "      <th>4096187</th>\n",
       "      <td>4.0</td>\n",
       "      <td>2.0</td>\n",
       "      <td>1522.0</td>\n",
       "      <td>365000.0</td>\n",
       "      <td>41.685120</td>\n",
       "      <td>-87.713660</td>\n",
       "      <td>50</td>\n",
       "      <td>0.500000</td>\n",
       "    </tr>\n",
       "  </tbody>\n",
       "</table>\n",
       "</div>"
      ],
      "text/plain": [
       "             bedroom_number  bathroom_number  ...  post_code  bath_bed_ratio\n",
       "property_id                                   ...                           \n",
       "4096811                 3.0              2.0  ...         50        0.666667\n",
       "4097533                 4.0              2.0  ...         50        0.500000\n",
       "4098042                 3.0              2.0  ...         50        0.666667\n",
       "113956069               3.0              2.0  ...         55        0.666667\n",
       "4096187                 4.0              2.0  ...         50        0.500000\n",
       "\n",
       "[5 rows x 8 columns]"
      ]
     },
     "execution_count": 43,
     "metadata": {},
     "output_type": "execute_result"
    }
   ],
   "source": [
    "chicago_df.head(5)"
   ]
  },
  {
   "cell_type": "markdown",
   "metadata": {
    "application/vnd.databricks.v1+cell": {
     "cellMetadata": {},
     "inputWidgets": {},
     "nuid": "0104cdae-84ff-413e-8c9a-4c908326b41f",
     "showTitle": false,
     "title": ""
    }
   },
   "source": [
    "# Correlation between various attributes "
   ]
  },
  {
   "cell_type": "code",
   "execution_count": null,
   "metadata": {
    "application/vnd.databricks.v1+cell": {
     "cellMetadata": {
      "byteLimit": 2048000,
      "rowLimit": 10000
     },
     "inputWidgets": {},
     "nuid": "00f535d8-73d2-4014-abdd-5c7cb3151d7f",
     "showTitle": false,
     "title": ""
    }
   },
   "outputs": [
    {
     "name": "stdout",
     "output_type": "stream",
     "text": [
      "                 bedroom_number  bathroom_number  ...  post_code  bath_bed_ratio\n",
      "bedroom_number         1.000000         0.459051  ...  -0.055958       -0.333958\n",
      "bathroom_number        0.459051         1.000000  ...  -0.034663        0.651136\n",
      "living_space           0.419406         0.585201  ...  -0.018141        0.230116\n",
      "price                  0.191676         0.535300  ...   0.070991        0.357507\n",
      "latitude              -0.062928         0.090711  ...   0.162992        0.142341\n",
      "longitude              0.127790         0.092201  ...  -0.387017       -0.011695\n",
      "post_code             -0.055958        -0.034663  ...   1.000000        0.005113\n",
      "bath_bed_ratio        -0.333958         0.651136  ...   0.005113        1.000000\n",
      "\n",
      "[8 rows x 8 columns]\n"
     ]
    }
   ],
   "source": [
    "correlation_matrix = chicago_df.corr()\n",
    "print(correlation_matrix)"
   ]
  },
  {
   "cell_type": "markdown",
   "metadata": {
    "application/vnd.databricks.v1+cell": {
     "cellMetadata": {},
     "inputWidgets": {},
     "nuid": "c3bbbe16-8013-4dc7-b873-4b5016f23856",
     "showTitle": false,
     "title": ""
    }
   },
   "source": [
    "# Setting up endpoints for inferencing"
   ]
  },
  {
   "cell_type": "code",
   "execution_count": null,
   "metadata": {
    "application/vnd.databricks.v1+cell": {
     "cellMetadata": {
      "byteLimit": 2048000,
      "rowLimit": 10000
     },
     "inputWidgets": {},
     "nuid": "ac9c554d-ab42-45e1-8750-9693323124a4",
     "showTitle": false,
     "title": ""
    }
   },
   "outputs": [
    {
     "name": "stdout",
     "output_type": "stream",
     "text": [
      "sagemaker.config INFO - Not applying SDK defaults from location: /etc/xdg/sagemaker/config.yaml\n",
      "sagemaker.config INFO - Not applying SDK defaults from location: /root/.config/sagemaker/config.yaml\n",
      "\n",
      "2023-11-09 22:15:32 Starting - Found matching resource for reuse\n",
      "2023-11-09 22:15:32 Downloading - Downloading input data\n",
      "2023-11-09 22:15:32 Training - Training image download completed. Training in progress.\n",
      "2023-11-09 22:15:32 Uploading - Uploading generated training model\n",
      "2023-11-09 22:15:32 Completed - Resource reused by training job: sagemaker-xgboost-231109-2210-008-7026d167\n",
      "------!"
     ]
    }
   ],
   "source": [
    "from sagemaker import estimator\n",
    "from sagemaker.serializers import CSVSerializer\n",
    "from sagemaker.deserializers import CSVDeserializer\n",
    "\n",
    "# Fetch the information about the best training job\n",
    "best_training_job_info = tuner.best_training_job()\n",
    "best_model = estimator.Estimator.attach(best_training_job_info)\n",
    "\n",
    "# Deploy the best model\n",
    "## This is going to deploy a SageMaker endpoint instance with what we specify here (type, count, model to deploy)\n",
    "predictor = best_model.deploy(initial_instance_count=1, instance_type='ml.m4.xlarge')\n",
    "\n",
    "# Specify the serializer and deserializer\n",
    "predictor.serializer = CSVSerializer()\n",
    "predictor.deserializer = CSVDeserializer()"
   ]
  },
  {
   "cell_type": "markdown",
   "metadata": {
    "application/vnd.databricks.v1+cell": {
     "cellMetadata": {},
     "inputWidgets": {},
     "nuid": "670fb0cb-1d43-4cac-a2d6-390754d8cbfe",
     "showTitle": false,
     "title": ""
    }
   },
   "source": [
    "# Running the inferences and printing predicted values"
   ]
  },
  {
   "cell_type": "code",
   "execution_count": null,
   "metadata": {
    "application/vnd.databricks.v1+cell": {
     "cellMetadata": {
      "byteLimit": 2048000,
      "rowLimit": 10000
     },
     "inputWidgets": {},
     "nuid": "9d852211-763d-4b5c-9d31-a140952067e5",
     "showTitle": false,
     "title": ""
    }
   },
   "outputs": [
    {
     "name": "stdout",
     "output_type": "stream",
     "text": [
      "[['251705.765625'], ['768936.5'], ['411884.875'], ['294603.875'], ['322291.15625'], ['410650.125'], ['231185.5625'], ['329626.75']]\n"
     ]
    }
   ],
   "source": [
    "import pandas as pd\n",
    "from sagemaker.serializers import CSVSerializer\n",
    "\n",
    "# Create a DataFrame from your data\n",
    "# This data is randomly picked from the validation set (not trained data) so as not to introduce bias. \n",
    "valdata = [\n",
    "    [239500.0, 1.058773594059130, -0.5476783157318450, -0.7791248933295790, -0.8571485224099410, 2.0614927046585300, -1.3169590357952400, -1.1994104934014300],\n",
    "    [799000.0, 0.07967139607036990, 1.9854403638739200, 1.6238737384246800, 1.1967044241520300, -0.14807632643541900, -0.613129362862038, 1.8274192687972600],\n",
    "    [355000.0, -0.8994308019183920, -0.5476783157318450, -1.0087537676399900, 1.4761783480840400, -1.456616669723130, -0.17323581727878500, 0.1458471786868720],\n",
    "    [304995.0, 1.058773594059130, 0.7188810240710390, 2.374895233228150, -1.3057699752189500, 2.3748879071066400, -1.3169590357952400, -0.19046723933520400],\n",
    "    [225000.0, 0.07967139607036990, 0.7188810240710390, 0.2717648961616050, 0.45600790759565500, -0.9198871797651460, 0.8825086921210230, 0.5662402012144680],\n",
    "    [405000.0, 0.07967139607036990, -0.5476783157318450, -0.7115869891206340, 1.2227986519323200, -0.6646120336032080, -0.26121452639543500, -0.694938866368319],\n",
    "    [224900.0, 3.016977990036660, -0.5476783157318450, -0.19829891713265200, -1.795658263161210, 2.2328042276388400, 0.0027216009545164600, -1.775949495724990],\n",
    "    [264000.0, -1.878532999907150, -1.814237655534730, -0.3495838225606890, 0.9381153712542950, -1.0037948644902400, 0.09070031007116710, -0.694938866368319]\n",
    "]\n",
    "fake_data_df = pd.DataFrame(valdata)\n",
    "actuals = fake_data_df[0].tolist()\n",
    "# Remove the first column (price)\n",
    "fake_data_df = fake_data_df.iloc[:, 1:]\n",
    "\n",
    "# Convert the DataFrame to CSV format\n",
    "fake_data_csv = fake_data_df.to_csv(sep=',', header=False, index=False)\n",
    "\n",
    "# Make a prediction\n",
    "prediction = predictor.predict(fake_data_csv)\n",
    "\n",
    "# Print the prediction\n",
    "print(prediction)"
   ]
  },
  {
   "cell_type": "markdown",
   "metadata": {
    "application/vnd.databricks.v1+cell": {
     "cellMetadata": {},
     "inputWidgets": {},
     "nuid": "5ec6e1a6-53de-4c16-91dd-1110048be616",
     "showTitle": false,
     "title": ""
    }
   },
   "source": [
    "# Comparing predicted values to actual values"
   ]
  },
  {
   "cell_type": "code",
   "execution_count": null,
   "metadata": {
    "application/vnd.databricks.v1+cell": {
     "cellMetadata": {
      "byteLimit": 2048000,
      "rowLimit": 10000
     },
     "inputWidgets": {},
     "nuid": "d3b9034d-b4e7-40ca-84d0-9a28364f4352",
     "showTitle": false,
     "title": ""
    }
   },
   "outputs": [
    {
     "name": "stdout",
     "output_type": "stream",
     "text": [
      "Prediction: 251705.765625, Actual: 239500.0, Error: 5.096353079331942%\n",
      "Prediction: 768936.5, Actual: 799000.0, Error: 3.7626408010012518%\n",
      "Prediction: 411884.875, Actual: 355000.0, Error: 16.023908450704223%\n",
      "Prediction: 294603.875, Actual: 304995.0, Error: 3.40698208167347%\n",
      "Prediction: 322291.15625, Actual: 225000.0, Error: 43.240513888888884%\n",
      "Prediction: 410650.125, Actual: 405000.0, Error: 1.3950925925925926%\n",
      "Prediction: 231185.5625, Actual: 224900.0, Error: 2.794825477990218%\n",
      "Prediction: 329626.75, Actual: 264000.0, Error: 24.858617424242425%\n"
     ]
    }
   ],
   "source": [
    "# Convert the predictions to a list of floats\n",
    "predictions = [float(pred[0]) for pred in prediction]\n",
    "\n",
    "# Calculate the absolute percentage error for each prediction\n",
    "errors = [abs((pred - actual) / actual * 100) for pred, actual in zip(predictions, actuals)]\n",
    "\n",
    "# Print the errors\n",
    "for i, error in enumerate(errors):\n",
    "    print(f\"Prediction: {predictions[i]}, Actual: {actuals[i]}, Error: {error}%\")"
   ]
  }
 ],
 "metadata": {
  "application/vnd.databricks.v1+notebook": {
   "dashboards": [],
   "language": "python",
   "notebookMetadata": {
    "pythonIndentUnit": 4
   },
   "notebookName": "DB Sagemaker integration POC(1)",
   "widgets": {}
  },
  "language_info": {
   "name": "python"
  }
 },
 "nbformat": 4,
 "nbformat_minor": 0
}
